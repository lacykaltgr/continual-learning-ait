{
 "cells": [
  {
   "cell_type": "code",
   "execution_count": 4,
   "outputs": [],
   "source": [
    "import tensorflow as tf\n",
    "import keras\n",
    "from stable_diffusion.layers import PaddedConv2D\n",
    "from stable_diffusion.autoencoder_kl import ResnetBlock, AttentionBlock\n",
    "from classifier import GatedDense"
   ],
   "metadata": {
    "collapsed": false
   }
  },
  {
   "cell_type": "code",
   "execution_count": 5,
   "outputs": [],
   "source": [
    "def load_cifar_10():\n",
    "    (X_train, y_train), (X_test, y_test) = tf.keras.datasets.cifar10.load_data()\n",
    "    n_classes = 10\n",
    "    X_train = (X_train / 127.5) -1\n",
    "    X_test = (X_test / 127.5) -1\n",
    "    y_train = tf.keras.utils.to_categorical(y_train, n_classes)\n",
    "    y_test = tf.keras.utils.to_categorical(y_test, n_classes)\n",
    "    return (X_train, y_train), (X_test, y_test)"
   ],
   "metadata": {
    "collapsed": false
   }
  },
  {
   "cell_type": "code",
   "execution_count": 6,
   "outputs": [],
   "source": [
    "class Classifier(keras.Sequential):\n",
    "    def __init__(self):\n",
    "        print(\"Encoder init\")\n",
    "        super().__init__(\n",
    "            [\n",
    "                PaddedConv2D(128, 3, padding=1 ),\n",
    "                ResnetBlock(128,128),\n",
    "                ResnetBlock(128, 128),\n",
    "                PaddedConv2D(128 , 3 , padding=(0,1), stride=2),\n",
    "\n",
    "                ResnetBlock(128,256),\n",
    "                ResnetBlock(256, 256),\n",
    "                PaddedConv2D(256 , 3 , padding=(0,1), stride=2),\n",
    "\n",
    "                ResnetBlock(256,512),\n",
    "                ResnetBlock(512, 512),\n",
    "                PaddedConv2D(512, 3, padding=(0,1), stride=2),\n",
    "\n",
    "                ResnetBlock(512,512),\n",
    "                ResnetBlock(512, 512),\n",
    "\n",
    "                ResnetBlock(512, 512),\n",
    "                AttentionBlock(512),\n",
    "                ResnetBlock(512, 512),\n",
    "\n",
    "                keras.layers.GroupNormalization(epsilon=1e-5),\n",
    "                keras.layers.Activation(\"swish\"),\n",
    "                PaddedConv2D(8, 3, padding=1 ),\n",
    "                PaddedConv2D(8, 1 ),\n",
    "                keras.layers.Lambda(lambda x : x[..., :4] * 0.18215),\n",
    "\n",
    "                #############################\n",
    "\n",
    "                keras.layers.Flatten(),\n",
    "                GatedDense(32, activation=keras.activations.relu),\n",
    "                keras.layers.Dropout(0.2),\n",
    "                GatedDense(32, activation=None),\n",
    "                keras.layers.Dense(10, activation='softmax')\n",
    "            ]\n",
    "        )"
   ],
   "metadata": {
    "collapsed": false
   }
  },
  {
   "cell_type": "code",
   "execution_count": null,
   "outputs": [
    {
     "name": "stdout",
     "output_type": "stream",
     "text": [
      "Encoder init\n",
      "Epoch 1/100\n"
     ]
    },
    {
     "name": "stderr",
     "output_type": "stream",
     "text": [
      "2023-05-09 04:09:09.010935: W tensorflow/tsl/platform/profile_utils/cpu_utils.cc:128] Failed to get CPU frequency: 0 Hz\n"
     ]
    },
    {
     "name": "stdout",
     "output_type": "stream",
     "text": [
      "  5/391 [..............................] - ETA: 46:01 - loss: 2.3017 - categorical_accuracy: 0.1203"
     ]
    }
   ],
   "source": [
    "(X_train, y_train), (X_test, y_test) = load_cifar_10()\n",
    "\n",
    "model = Classifier()\n",
    "model.compile(\n",
    "    optimizer=keras.optimizers.Adam(learning_rate=1e-3),\n",
    "    loss=keras.losses.CategoricalCrossentropy(),\n",
    "    metrics=[keras.metrics.CategoricalAccuracy()]\n",
    ")\n",
    "model.fit(X_train, y_train, batch_size=128, epochs=100, validation_data=(X_test, y_test))"
   ],
   "metadata": {
    "collapsed": false
   }
  },
  {
   "cell_type": "code",
   "execution_count": null,
   "outputs": [],
   "source": [],
   "metadata": {
    "collapsed": false
   }
  }
 ],
 "metadata": {
  "kernelspec": {
   "display_name": "Python 3",
   "language": "python",
   "name": "python3"
  },
  "language_info": {
   "codemirror_mode": {
    "name": "ipython",
    "version": 2
   },
   "file_extension": ".py",
   "mimetype": "text/x-python",
   "name": "python",
   "nbconvert_exporter": "python",
   "pygments_lexer": "ipython2",
   "version": "2.7.6"
  }
 },
 "nbformat": 4,
 "nbformat_minor": 0
}
