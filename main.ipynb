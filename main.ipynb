{
 "cells": [
  {
   "cell_type": "markdown",
   "metadata": {
    "id": "view-in-github",
    "colab_type": "text"
   },
   "source": [
    "<a href=\"https://colab.research.google.com/github/lacykaltgr/continual-learning-ait/blob/main/main.ipynb\" target=\"_parent\"><img src=\"https://colab.research.google.com/assets/colab-badge.svg\" alt=\"Open In Colab\"/></a>"
   ]
  },
  {
   "cell_type": "code",
   "execution_count": 1,
   "metadata": {
    "colab": {
     "base_uri": "https://localhost:8080/"
    },
    "id": "pveLpmUzEF5A",
    "outputId": "d41cb41e-5af2-433f-e953-2ed038f6d427"
   },
   "outputs": [
    {
     "output_type": "stream",
     "name": "stdout",
     "text": [
      "--2023-05-11 19:09:58--  https://github.com/lacykaltgr/continual-learning-ait/archive/refs/heads/main.zip\n",
      "Resolving github.com (github.com)... 140.82.121.3\n",
      "Connecting to github.com (github.com)|140.82.121.3|:443... connected.\n",
      "HTTP request sent, awaiting response... 302 Found\n",
      "Location: https://codeload.github.com/lacykaltgr/continual-learning-ait/zip/refs/heads/main [following]\n",
      "--2023-05-11 19:09:59--  https://codeload.github.com/lacykaltgr/continual-learning-ait/zip/refs/heads/main\n",
      "Resolving codeload.github.com (codeload.github.com)... 140.82.121.9\n",
      "Connecting to codeload.github.com (codeload.github.com)|140.82.121.9|:443... connected.\n",
      "HTTP request sent, awaiting response... 200 OK\n",
      "Length: unspecified [application/zip]\n",
      "Saving to: ‘main.zip’\n",
      "\n",
      "main.zip                [ <=>                ]   1.58M  9.66MB/s    in 0.2s    \n",
      "\n",
      "2023-05-11 19:09:59 (9.66 MB/s) - ‘main.zip’ saved [1659796]\n",
      "\n",
      "Archive:  main.zip\n",
      "14284730675b047d64453bf87dfeefdb10cc020d\n",
      "   creating: continual-learning-ait-main/\n",
      "  inflating: continual-learning-ait-main/README.md  \n",
      "  inflating: continual-learning-ait-main/classifier.py  \n",
      "  inflating: continual-learning-ait-main/constants.py  \n",
      "  inflating: continual-learning-ait-main/data_preparation.py  \n",
      "  inflating: continual-learning-ait-main/generator.py  \n",
      "  inflating: continual-learning-ait-main/img.png  \n",
      "  inflating: continual-learning-ait-main/main.ipynb  \n",
      "   creating: continual-learning-ait-main/models/\n",
      "  inflating: continual-learning-ait-main/models/classifier.h5  \n",
      "  inflating: continual-learning-ait-main/models/encoder.h5  \n",
      "   creating: continual-learning-ait-main/notebooks/\n",
      "  inflating: continual-learning-ait-main/notebooks/classifier.ipynb  \n",
      "  inflating: continual-learning-ait-main/notebooks/data_preparation.ipynb  \n",
      "  inflating: continual-learning-ait-main/notebooks/generator.ipynb  \n",
      "  inflating: continual-learning-ait-main/utils.py  \n"
     ]
    }
   ],
   "source": [
    "'''Download the files '''\n",
    "'''Only for colab'''\n",
    "\n",
    "!wget https://github.com/lacykaltgr/continual-learning-ait/archive/refs/heads/main.zip\n",
    "!unzip main.zip\n",
    "!find continual-learning-ait-main -type f ! -name \"main.ipynb\" -exec cp {} . \\;"
   ]
  },
  {
   "cell_type": "code",
   "execution_count": 2,
   "metadata": {
    "id": "vjfVuEmXECoL"
   },
   "outputs": [],
   "source": [
    "import numpy as np\n",
    "import tensorflow as tf\n",
    "import keras\n",
    "\n",
    "from sklearn.metrics import accuracy_score\n",
    "from sklearn.metrics import classification_report\n",
    "#from keras.metrics import Accuracy\n",
    "\n",
    "import classifier\n",
    "from generator import Generator\n",
    "from classifier import Encoder, Classifier\n",
    "import utils\n",
    "from data_preparation import load_dataset, CLDataLoader\n",
    "\n",
    "import gc\n",
    "import os\n",
    "os.environ['TF_CPP_MIN_LOG_LEVEL'] = '2'\n",
    "\n",
    "import importlib"
   ]
  },
  {
   "cell_type": "markdown",
   "source": [
    "# Load the dataset"
   ],
   "metadata": {
    "collapsed": false,
    "id": "zzYWiWfZ8kVi"
   }
  },
  {
   "cell_type": "code",
   "execution_count": 5,
   "metadata": {
    "id": "TaH3bi-5crqD"
   },
   "outputs": [],
   "source": [
    "dpt_train, dpt_test = load_dataset('cifar-10', n_classes_first_task=4, n_classes_other_task=3)"
   ]
  },
  {
   "cell_type": "code",
   "execution_count": 6,
   "metadata": {
    "id": "yIESUurDeOCR"
   },
   "outputs": [],
   "source": [
    "batch_size = 256\n",
    "train_loader = CLDataLoader(dpt_train, batch_size , train=True)\n",
    "test_loader = CLDataLoader(dpt_train, batch_size, train=False)"
   ]
  },
  {
   "cell_type": "markdown",
   "source": [
    "# Define parameters and agent"
   ],
   "metadata": {
    "collapsed": false,
    "id": "3Jl-cBYs8kVj"
   }
  },
  {
   "cell_type": "code",
   "execution_count": null,
   "metadata": {
    "id": "GY9MAk581iYQ"
   },
   "outputs": [],
   "source": [
    "params = {\n",
    "    #general\n",
    "    \"n_runs\": 1,\n",
    "    \"n_tasks\": 3,\n",
    "    \"n_epochs\": 2,\n",
    "    \"n_classes\": 10,\n",
    "    \"input_shape\": (32, 32, 3),\n",
    "    \"embedding_shape\": (6, 6, 8),\n",
    "    \"samples_per_task\": 10000,\n",
    "    \"batch_size\": batch_size,\n",
    "    \"eval_batch_size\": 1,\n",
    "    \"print_every\": 1,\n",
    "\n",
    "    #classifier\n",
    "    \"cls_iters\": 1,\n",
    "    \"cls_lr\": 1e-2,\n",
    "\n",
    "    #generator\n",
    "    \"num_steps\": 3,\n",
    "    \"gen_lr\": 2e-4,\n",
    "    \"gen_iters\": 1,\n",
    "    \"input_latent_strength\": 0.9,\n",
    "    \"temperature\": 0.9,\n",
    "\n",
    "    #mir\n",
    "    \"mir_iters\": 3,\n",
    "    \"n_mem\": 2,\n",
    "    \"reuse_samples\": True,\n",
    "    \"cls_mir_gen\": 1,\n",
    "    \"gen_mir_gen\": 1,\n",
    "    \"mem_coeff\": 0.12,\n",
    "    \"z_size\": 10,\n",
    "    \"gen_kl_coeff\": 0.5,\n",
    "    \"gen_rec_coeff\": 0.5,\n",
    "    \"gen_ent_coeff\": 0.5,\n",
    "    \"gen_div_coeff\": 0.5,\n",
    "    \"gen_shell_coeff\": 0.5,\n",
    "    \"cls_xent_coeff\": 0.5,\n",
    "    \"cls_ent_coeff\": 0.5,\n",
    "    \"cls_div_coeff\": 0.5,\n",
    "    \"cls_shell_coeff\": 0.5,\n",
    "}"
   ]
  },
  {
   "cell_type": "code",
   "execution_count": 7,
   "metadata": {
    "id": "OmitFSMM2WJn"
   },
   "outputs": [],
   "source": [
    "'''Agent to handle models, parameters and states'''\n",
    "\n",
    "class Agent:\n",
    "  def __init__(self, hparams):\n",
    "    self.params = hparams\n",
    "    self.state = dict()\n",
    "\n",
    "    self.classifier = None\n",
    "    self.generator = None\n",
    "    self.encoder = None\n",
    "    self.encoder_classifier = None\n",
    "\n",
    "    self.eval = accuracy_score\n",
    "\n",
    "  def set_models(\n",
    "          self,\n",
    "          _generator=None,\n",
    "          _classifier=None,\n",
    "          _encoder  = None,\n",
    "    ):\n",
    "    cls = _classifier #classifier\n",
    "    gen = _generator  #generator\n",
    "    enc = _encoder #encoder\n",
    "\n",
    "    optimizer = tf.keras.optimizers.legacy.Adam(learning_rate=params[\"cls_lr\"])\n",
    "    optimizer_gen = tf.keras.optimizers.legacy.Adam(learning_rate=params[\"gen_lr\"])\n",
    "\n",
    "    #encoder pipeline\n",
    "    data_input = keras.Input(shape=self.params[\"input_shape\"], name=\"image\")\n",
    "    enc_output = enc(data_input)\n",
    "    self.encoder = keras.Model(inputs=data_input, output=enc_output)\n",
    "\n",
    "    # classifier pipeline\n",
    "    latent_input = keras.Input(shape=self.params[\"embedding_shape\"], name=\"latent\")\n",
    "    cls_output = cls(latent_input)\n",
    "    self.classifier = keras.Model(inputs=latent_input, outputs=cls_output)\n",
    "    self.classifier.compile(optimizer=optimizer, loss=\"categorical_crossentropy\", metrics=[\"accuracy\"])\n",
    "\n",
    "    # encoder - classifier pipeline\n",
    "    data_input = keras.Input(shape=self.params[\"input_shape\"], name=\"image\")\n",
    "    enc_output = enc(data_input)\n",
    "    enc_cls_output = cls(enc_output)\n",
    "    self.encoder_classifier.compile(optimizer=optimizer, loss=\"categorical_crossentropy\", metrics=[\"accuracy\"])\n",
    "    \n",
    "    # generator pipeline\n",
    "    latent_input = keras.Input(shape=self.params[\"embedding_shape\"], name=\"latent\")\n",
    "    gen_output = gen(latent_input)\n",
    "    self.generator = keras.Model(inputs = latent_input, outputs = gen_output)"
   ]
  },
  {
   "cell_type": "markdown",
   "source": [
    "# Functions for training"
   ],
   "metadata": {
    "collapsed": false,
    "id": "OPqiS9VV8kVk"
   }
  },
  {
   "cell_type": "code",
   "execution_count": null,
   "outputs": [],
   "source": [
    "'''Generate samples and train the diffusion model at the same time'''\n",
    "\n",
    "def generate(agent, cls=None, input_latent=None, train=True, coeff=1.0):\n",
    "\n",
    "    if cls is None:\n",
    "        cls = agent.classifier\n",
    "\n",
    "    latent, alphas, alphas_prev, timesteps = agent.generator.initialize(agent.params, input_latent)\n",
    "\n",
    "\n",
    "    for index, timestep in reversed(list(enumerate(timesteps))):\n",
    "        if train:\n",
    "            with tf.GradientTape() as tape:\n",
    "                e_t = agent.generator.get_model_output(\n",
    "                    latent,\n",
    "                    timestep,\n",
    "                    agent.params['batch_size'],\n",
    "                )\n",
    "                a_t, a_prev = alphas[index], alphas_prev[index]\n",
    "                latent = agent.generator.get_x_prev(latent, e_t,  a_t, a_prev, agent.params[\"temperature\"])\n",
    "                pred = cls(latent)\n",
    "                pred_true = utils.get_one_hot_predictions(pred) #ezt nem fixen kell mecsinálni\n",
    "                confidence_loss = coeff*tf.reduce_mean(tf.keras.losses.categorical_crossentropy(pred_true, pred))\n",
    "                print(confidence_loss)\n",
    "                similarity_loss = 0.1 * tf.reduce_mean(tf.square(latent - e_t))\n",
    "                print(similarity_loss)\n",
    "                loss = confidence_loss + similarity_loss\n",
    "\n",
    "            grads = tape.gradient(loss, agent.gen.diffusion_model.trainable_variables)\n",
    "            agent.opt_gen.apply_gradients(zip(grads, agent.gen.diffusion_model.trainable_variables))\n",
    "        else:\n",
    "            e_t = agent.gen.get_model_output(\n",
    "                latent,\n",
    "                timestep,\n",
    "                agent.params['batch_size'],\n",
    "            )\n",
    "            a_t, a_prev = alphas[index], alphas_prev[index]\n",
    "            latent = agent.gen.get_x_prev(latent, e_t,  a_t, a_prev, agent.params[\"temperature\"])\n",
    "\n",
    "\n",
    "\n",
    "    return latent"
   ],
   "metadata": {
    "id": "2BgWNzhg8kVk"
   }
  },
  {
   "cell_type": "code",
   "execution_count": null,
   "outputs": [],
   "source": [
    "'''Retrive maximally interferred latent vector for classifier'''\n",
    "\n",
    "def retrieve_gen_for_cls(agent):\n",
    "\n",
    "    print(\"Retrieving latent vector for classifier...\")\n",
    "\n",
    "    latent = agent.encoder(agent.state[\"data\"])\n",
    "    virtual_cls = Classifier()\n",
    "    virtual_cls = utils.get_next_step_cls(\n",
    "        agent.cls,\n",
    "        virtual_cls,\n",
    "        latent,\n",
    "        agent.state[\"target\"]\n",
    "    )\n",
    "\n",
    "    #mean_latent = tf.cast(tf.reduce_mean(latent, axis=0), tf.float64)\n",
    "    final_latent = None\n",
    "\n",
    "    for i in range(agent.params[\"n_mem\"]):\n",
    "\n",
    "        generated = generate(agent, input_latent=latent, train=False, coeff=0.1)\n",
    "\n",
    "        for j in range(params[\"mir_iters\"]):\n",
    "            with tf.GradientTape(persistent=True) as tape:\n",
    "\n",
    "                tape.watch(generated)\n",
    "\n",
    "                y_pre = agent.cls(generated)\n",
    "                y_virtual = virtual_cls(generated)\n",
    "\n",
    "                # maximise the interference:\n",
    "                XENT = tf.constant(0.)\n",
    "                if params[\"cls_xent_coeff\"] > 0.:\n",
    "                    XENT = tf.keras.losses.categorical_crossentropy(y_virtual, y_pre)\n",
    "\n",
    "                # the predictions from the two models should be confident\n",
    "                ENT = tf.constant(0.)\n",
    "                if params[\"cls_ent_coeff\"] > 0.:\n",
    "                    ENT = tf.keras.losses.categorical_crossentropy(y_pre, y_pre)\n",
    "\n",
    "                # the new-found samples should be different from each others\n",
    "                DIV = tf.constant(0.)\n",
    "                if params[\"cls_div_coeff\"] > 0.:\n",
    "                    for found_z_i in range(i):\n",
    "                        DIV += tf.keras.losses.MSE(\n",
    "                            generated,\n",
    "                            final_latent[found_z_i * generated.shape[0]:found_z_i * generated.shape[0] + generated.shape[0]]\n",
    "                        ) / i\n",
    "\n",
    "                # (NEW) stay on gaussian shell loss:\n",
    "                SHELL = tf.constant(0.)\n",
    "                if params[\"cls_shell_coeff\"] > 0.:\n",
    "                    SHELL = tf.keras.losses.MSE(\n",
    "                        tf.norm(generated, axis=1),\n",
    "                        tf.ones_like(tf.norm(generated, axis=1))*np.sqrt(params[\"z_size\"])\n",
    "                    )\n",
    "\n",
    "                XENT, ENT, DIV, SHELL = \\\n",
    "                    tf.reduce_mean(XENT), \\\n",
    "                        tf.reduce_mean(ENT), \\\n",
    "                        tf.reduce_mean(DIV), \\\n",
    "                        tf.reduce_mean(SHELL)\n",
    "\n",
    "                gain = params[\"cls_xent_coeff\"] * XENT + \\\n",
    "                       -params[\"cls_ent_coeff\"] * ENT + \\\n",
    "                       params[\"cls_div_coeff\"] * DIV + \\\n",
    "                       -params[\"cls_shell_coeff\"] * SHELL\n",
    "\n",
    "            gen_grad = tape.gradient(gain, generated)\n",
    "            if gen_grad is not None:\n",
    "                generated = (generated + 1 * gen_grad)\n",
    "\n",
    "        if final_latent is None:\n",
    "            final_latent = generated.numpy().copy()\n",
    "        else:\n",
    "            final_latent = np.concatenate([final_latent, generated.numpy().copy()])\n",
    "\n",
    "    tf.stop_gradient(final_latent)\n",
    "\n",
    "    mir_worked = not np.isnan(final_latent).any()\n",
    "    mem_x = final_latent if mir_worked else generate(agent, train=False)\n",
    "    mem_y = agent.cls(mem_x).numpy()\n",
    "\n",
    "    return mem_x, mem_y, mir_worked"
   ],
   "metadata": {
    "id": "OlENSPig8kVl"
   }
  },
  {
   "cell_type": "code",
   "execution_count": null,
   "outputs": [],
   "source": [
    "'''Retrive maximally interferred latent vector for generator'''\n",
    "\n",
    "\n",
    "def retrieve_gen_for_gen(agent):\n",
    "\n",
    "    print(\"Retrieving latent vector for generator...\")\n",
    "\n",
    "    latent = agent.gen.encoder(agent.state[\"data\"])\n",
    "    #mean_latent = tf.cast(tf.reduce_mean(latent, axis=0), tf.float64)\n",
    "    final_latent = None\n",
    "\n",
    "    for i in range(params[\"n_mem\"]):\n",
    "\n",
    "        generated = generate(agent, input_latent=latent, train=False, coeff=0.1)\n",
    "\n",
    "        for j in range(params[\"mir_iters\"]):\n",
    "\n",
    "            with tf.GradientTape(persistent=True) as tape:\n",
    "                tape.watch(generated)\n",
    "\n",
    "                # the predictions from the two models should be confident\n",
    "                ENT = tf.constant(0.)\n",
    "                if params[\"gen_ent_coeff\"]>0.:\n",
    "                    y_pre = agent.cls(generated)\n",
    "                    ENT = tf.reduce_mean(tf.keras.losses.categorical_crossentropy(y_pre, y_pre))\n",
    "\n",
    "                # the new-found samples should be different from each others\n",
    "                DIV = tf.constant(0.)\n",
    "                if params[\"gen_div_coeff\"]>0.:\n",
    "                    for found_z_i in range(i):\n",
    "                        DIV += tf.reduce_mean(tf.math.squared_difference(\n",
    "                            generated,\n",
    "                            final_latent[found_z_i * generated.shape[0]:found_z_i * generated.shape[0] + generated.shape[0]])\n",
    "                        ) / i\n",
    "\n",
    "                # (NEW) stay on gaussian shell loss:\n",
    "                SHELL = tf.constant(0.)\n",
    "                if params[\"gen_shell_coeff\"]>0.:\n",
    "                    SHELL = tf.reduce_mean(tf.math.squared_difference(\n",
    "                        tf.norm(generated, ord=2, axis=1),\n",
    "                        tf.ones_like(tf.norm(generated, ord=2, axis=1))*np.sqrt(params[\"z_size\"])))\n",
    "\n",
    "\n",
    "                gain =params[\"gen_div_coeff\"] * DIV + \\\n",
    "                      -params[\"gen_ent_coeff\"] * ENT + \\\n",
    "                       -params[\"gen_shell_coeff\"] * SHELL\n",
    "\n",
    "            grad = tape.gradient(gain, generated)\n",
    "            generated = (generated + grad)\n",
    "\n",
    "        if final_latent is None:\n",
    "            final_latent = tf.identity(generated)\n",
    "        else:\n",
    "            final_latent = tf.concat([final_latent, generated], axis=0)\n",
    "\n",
    "\n",
    "    tf.stop_gradient(final_latent)\n",
    "\n",
    "    mir_worked = not np.isnan(final_latent).any()\n",
    "    mem_x = final_latent if mir_worked else generate(agent, train=False)\n",
    "\n",
    "    return mem_x, mir_worked"
   ],
   "metadata": {
    "id": "5ho68Omg8kVl"
   }
  },
  {
   "cell_type": "code",
   "execution_count": null,
   "metadata": {
    "id": "lM8aEv6833SS"
   },
   "outputs": [],
   "source": [
    "'''Train the generator unit'''\n",
    "\n",
    "def train_generator(agent):\n",
    "\n",
    "    print(\"Training generator...\")\n",
    "\n",
    "    data = agent.state[\"data\"]\n",
    "    latent = agent.encoder(data)\n",
    "\n",
    "    mem_x = None\n",
    "    for it in range(agent.params[\"gen_iters\"]):\n",
    "        generate(agent, input_latent=latent)\n",
    "\n",
    "        #if agent.state[\"task\"] > 0:\n",
    "        #    if it == 0 or not agent.params[\"reuse_samples\"]:\n",
    "        #       mem_x, mir_worked = retrieve_gen_for_gen(agent)\n",
    "\n",
    "        #        agent.state[\"mir_tries\"] += 1\n",
    "        #        if mir_worked:\n",
    "        #            agent.state[\"mir_success\"] += 1\n",
    "\n",
    "        #if mem_x is not None:\n",
    "        #  if len(mem_x.shape) == 3:\n",
    "        #    mem_x = tf.expand__dims(mem_x, axis=-1)\n",
    "        #  generate(agent, input_latent=mem_x, coeff=agent.params[\"mem_coeff\"])\n"
   ]
  },
  {
   "cell_type": "code",
   "execution_count": null,
   "metadata": {
    "id": "AXTbt9sT8gHE"
   },
   "outputs": [],
   "source": [
    "'''Train the encoder and the classifier unit'''\n",
    "\n",
    "def train_classifier(agent):\n",
    "\n",
    "    print('Training classifier...')\n",
    "\n",
    "    data = agent.state[\"data\"]\n",
    "    target = agent.state[\"target\"]\n",
    "    mem_x, mem_y = None, None\n",
    "\n",
    "    for it in range(agent.params[\"cls_iters\"]):\n",
    "        history = agent.classifier_model.fit(data, target, batch_size=agent.params[\"batch_size\"], epochs=1, verbose=0)\n",
    "        #if agent.state[\"task\"] > 0:\n",
    "        #    if it == 0 or not agent.params[\"reuse_samples\"]:\n",
    "        #        mem_x, mem_y, mir_worked = retrieve_gen_for_cls(agent)\n",
    "        #        agent.state[\"mir_tries\"] += 1\n",
    "        #        if mir_worked:\n",
    "        #            agent.state[\"mir_success\"] += 1\n",
    "\n",
    "        #    if mem_x is not None:\n",
    "        #        agent.cls_model.fit(mem_x, mem_y, batch_size=agent.params[\"batch_size\"], epochs=1, verbose=1)\n",
    "\n",
    "        agent.state[\"epoch_eval\"][\"cls_loss\"].append(history.history[\"loss\"][0])\n",
    "        agent.state[\"epoch_eval\"][\"cls_acc\"].append(history.history[\"accuracy\"][0])"
   ]
  },
  {
   "cell_type": "code",
   "execution_count": 2,
   "metadata": {
    "id": "0A88lN-h9hdV"
   },
   "outputs": [],
   "source": [
    "'''Train model'''\n",
    "\n",
    "def train_model(function, agent):\n",
    "    agent.state[\"sample_amt\"] = 0\n",
    "    agent.state[\"epoch_eval\"] = dict()\n",
    "    agent.state[\"epoch_eval\"][\"cls_loss\"] = []\n",
    "    agent.state[\"epoch_eval\"][\"cls_acc\"] = []\n",
    "    agent.state[\"epoch_eval\"][\"gen_loss\"] = []\n",
    "    agent.state[\"epoch_eval\"][\"retr_cls_loss\"] = []\n",
    "    agent.state[\"epoch_eval\"][\"retr_gen_loss\"] = []\n",
    "    loader = agent.state[\"tr_loader\"]\n",
    "    for i, (data, target) in enumerate(loader):\n",
    "        #if agent.state[\"sample_amt\"] > agent.params[\"samples_per_task\"] > 0: break\n",
    "        agent.state[\"sample_amt\"] += data.shape[0]\n",
    "        agent.state[\"data\"] = data\n",
    "        agent.state[\"target\"] = target\n",
    "        agent.state[\"i_example\"] = i\n",
    "        function(agent)\n"
   ]
  },
  {
   "cell_type": "code",
   "execution_count": null,
   "outputs": [],
   "source": [
    "'''Run an epoch'''\n",
    "\n",
    "def run_epoch(agent):\n",
    "\n",
    "    gc.collect()\n",
    "\n",
    "    print(\"Running epoch...\")\n",
    "\n",
    "    train_model(train_classifier, agent)\n",
    "    train_model(train_generator, agent)\n",
    "\n",
    "\n",
    "    '''Evaluate the models in epoch'''\n",
    "    if agent.state[\"epoch\"] % agent.params[\"print_every\"] == 0:\n",
    "        print(f\"Task: {agent.state['task']}  Epoch: {agent.state['epoch']}\"\n",
    "              f\"    Classifier loss: {np.mean(agent.state['epoch_eval']['cls_loss'])}\"\n",
    "              f\"    Classifier accuracy: {np.mean(agent.state['epoch_eval']['cls_acc'])}\"\n",
    "              f\"    Generator loss: {np.mean(agent.state['epoch_eval']['gen_loss'])}\"\n",
    "              f\"    Loss on gen retrieve for cls: {np.mean(agent.state['epoch_eval']['retr_cls_loss'])}\"\n",
    "              f\"    Loss on gen retrieve for gen: {np.mean(agent.state['epoch_eval']['retr_gen_loss'])}\")"
   ],
   "metadata": {
    "collapsed": false
   }
  },
  {
   "cell_type": "code",
   "execution_count": null,
   "metadata": {
    "id": "0SyPNSep_K0t"
   },
   "outputs": [],
   "source": [
    "'''Run a task'''\n",
    "\n",
    "def run_task(agent):\n",
    "\n",
    "    agent.state[\"mir_tries\"], agent.state[\"mir_success\"] = 0, 0\n",
    "\n",
    "    for epoch in range(agent.params[\"n_epochs\"]):\n",
    "        agent.state[\"epoch\"] = epoch\n",
    "        run_epoch(agent)\n",
    "\n",
    "    '''Evaluate forgetting'''\n",
    "    print(\"Task: \", agent.state[\"task\"])\n",
    "    for i in range(agent.state[\"task\"]):\n",
    "        task_loss = []\n",
    "        task_eval = []\n",
    "        for data, target in agent.state[\"ts_loader\"][i]:\n",
    "            logits = agent.encoder_classifier(data)\n",
    "            pred = np.argmax(logits, axis=1)\n",
    "            y = np.argmax(target, axis=1)\n",
    "            #eval = agent.eval(y, pred)\n",
    "            task_eval.append(eval)\n",
    "            loss = tf.keras.losses.categorical_crossentropy(target, logits)\n",
    "            task_loss.append(np.mean(loss))\n",
    "        print(f\"Task {agent.state['task']} forgetting on task {i} : \"\n",
    "              f\"    Loss: {np.mean(task_loss)}\"\n",
    "              f\"    ACC: {np.mean(task_eval)}\")\n",
    "\n",
    "    #print(\"MIR success rate: \", agent.state[\"mir_success\"] / agent.state[\"mir_tries\"])"
   ]
  },
  {
   "cell_type": "code",
   "execution_count": null,
   "metadata": {
    "id": "VhbA5MCFCi4r"
   },
   "outputs": [],
   "source": [
    "'''Run the experiment'''\n",
    "\n",
    "def run(agent):\n",
    "\n",
    "  agent.set_models(\n",
    "      classifier=Classifier(),\n",
    "      generator=Generator(img_height=32, img_width=32),\n",
    "      encoder=Encoder(),\n",
    "  )\n",
    "\n",
    "  for task, (tr_loader, ts_loader) in enumerate(zip(train_loader, test_loader)):\n",
    "    agent.state[\"task\"] = task\n",
    "    agent.state[\"tr_loader\"] = tr_loader\n",
    "    agent.state[\"ts_loader\"] = ts_loader\n",
    "    run_task(agent)"
   ]
  },
  {
   "cell_type": "markdown",
   "source": [
    "# Training"
   ],
   "metadata": {
    "collapsed": false,
    "id": "AoBLwork8kVn"
   }
  },
  {
   "cell_type": "code",
   "execution_count": null,
   "metadata": {
    "id": "BlPHqKTaC41u"
   },
   "outputs": [],
   "source": [
    "agent = Agent(params)\n",
    "for r in range(agent.params[\"n_runs\"]):\n",
    "  agent.state[\"run\"] = r\n",
    "  run(agent)"
   ]
  },
  {
   "cell_type": "markdown",
   "source": [
    "# Eval"
   ],
   "metadata": {
    "collapsed": false
   }
  },
  {
   "cell_type": "code",
   "execution_count": null,
   "outputs": [],
   "source": [
    "''' Evaluation'''\n",
    "for task, loader in enumerate(test_loader):\n",
    "    print(\"Task: \", task)\n",
    "    LOSS = []\n",
    "    ACC = []\n",
    "    for data, target in loader:\n",
    "      logits = agent.classifier_model(data)\n",
    "      pred = np.argmax(logits, axis=1)\n",
    "      report = agent.eval(np.argmax(target, axis=1), pred)\n",
    "      loss = tf.keras.losses.categorical_crossentropy(target, logits)\n",
    "      #print(report)\n",
    "      ACC.append(report)\n",
    "      LOSS.append(loss)\n",
    "    print(\"Mean loss: \", np.mean(LOSS))\n",
    "    print(\"Mean accuracy: \", np.mean(ACC))\n",
    "    print(\"\\n\")"
   ],
   "metadata": {
    "collapsed": false
   }
  },
  {
   "cell_type": "markdown",
   "source": [
    "# Evaluation, testing"
   ],
   "metadata": {
    "collapsed": false,
    "id": "UiiKIl618kVn"
   }
  },
  {
   "cell_type": "code",
   "execution_count": null,
   "outputs": [],
   "source": [
    "def evaluate(loader, first_n_tasks=None):\n",
    "    for task, tr_loader in enumerate(loader):\n",
    "        print(\"Task: \", task)\n",
    "        data, target = tr_loader.batch(124)\n",
    "        logits = agent.classifier_model(data)\n",
    "        pred = np.argmax(logits, axis=1)\n",
    "        report = agent.eval(np.argmax(target, axis=1), pred)\n",
    "        loss = tf.keras.losses.categorical_crossentropy(target, logits)\n",
    "        print(report)\n",
    "        print(\"Mean loss: \", np.mean(loss))"
   ],
   "metadata": {
    "id": "r_K9lbNh8kVn"
   }
  },
  {
   "cell_type": "code",
   "execution_count": null,
   "metadata": {
    "id": "4I2ZLTm-JnX8"
   },
   "outputs": [],
   "source": [
    "print(\"Evaluation on training set:\")\n",
    "evaluate(train_loader)\n",
    "print(\"Evaluation on test set:\")\n",
    "evaluate(test_loader)"
   ]
  },
  {
   "cell_type": "markdown",
   "source": [
    "# Utils for development"
   ],
   "metadata": {
    "collapsed": false,
    "id": "vOxdRLeJ8kVn"
   }
  },
  {
   "cell_type": "code",
   "execution_count": null,
   "outputs": [
    {
     "data": {
      "text/plain": "<module 'stable_diffusion.stable_diffusion' from '/Users/laszlofreund/PycharmProjects/continual-learning-ait/stable_diffusion/stable_diffusion.py'>"
     },
     "execution_count": 18,
     "metadata": {},
     "output_type": "execute_result"
    }
   ],
   "source": [
    "# Reload modules\n",
    "importlib.reload()"
   ],
   "metadata": {
    "id": "LNWS0pbd8kVn",
    "outputId": "b2184f26-86ef-40da-d970-7bd8b2d283ff"
   }
  },
  {
   "cell_type": "code",
   "execution_count": null,
   "outputs": [
    {
     "data": {
      "text/plain": "21547"
     },
     "execution_count": 26,
     "metadata": {},
     "output_type": "execute_result"
    }
   ],
   "source": [
    "# Garbage collection\n",
    "gc.collect()"
   ],
   "metadata": {
    "id": "NCdIwGMq8kVn",
    "outputId": "2495022b-fa19-489f-ae37-79b95d3ae24a"
   }
  },
  {
   "cell_type": "code",
   "execution_count": null,
   "outputs": [],
   "source": [],
   "metadata": {
    "id": "YvU86CThdnOY"
   }
  }
 ],
 "metadata": {
  "colab": {
   "provenance": [],
   "include_colab_link": true
  },
  "kernelspec": {
   "display_name": "Python 3 (ipykernel)",
   "language": "python",
   "name": "python3"
  },
  "language_info": {
   "codemirror_mode": {
    "name": "ipython",
    "version": 3
   },
   "file_extension": ".py",
   "mimetype": "text/x-python",
   "name": "python",
   "nbconvert_exporter": "python",
   "pygments_lexer": "ipython3",
   "version": "3.9.13"
  },
  "accelerator": "GPU",
  "gpuClass": "standard"
 },
 "nbformat": 4,
 "nbformat_minor": 0
}
