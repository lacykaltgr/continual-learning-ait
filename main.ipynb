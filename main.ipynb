{
  "cells": [
    {
      "cell_type": "markdown",
      "metadata": {
        "id": "view-in-github",
        "colab_type": "text"
      },
      "source": [
        "<a href=\"https://colab.research.google.com/github/lacykaltgr/continual-learning-ait/blob/main/main.ipynb\" target=\"_parent\"><img src=\"https://colab.research.google.com/assets/colab-badge.svg\" alt=\"Open In Colab\"/></a>"
      ]
    },
    {
      "cell_type": "code",
      "execution_count": 2,
      "metadata": {
        "colab": {
          "base_uri": "https://localhost:8080/"
        },
        "id": "pveLpmUzEF5A",
        "outputId": "64c6b82c-aaf7-47d8-a488-a7fd18cc748a"
      },
      "outputs": [
        {
          "output_type": "stream",
          "name": "stdout",
          "text": [
            "--2023-05-16 12:06:40--  https://github.com/lacykaltgr/continual-learning-ait/archive/refs/heads/main.zip\n",
            "Resolving github.com (github.com)... 20.205.243.166\n",
            "Connecting to github.com (github.com)|20.205.243.166|:443... connected.\n",
            "HTTP request sent, awaiting response... 302 Found\n",
            "Location: https://codeload.github.com/lacykaltgr/continual-learning-ait/zip/refs/heads/main [following]\n",
            "--2023-05-16 12:06:40--  https://codeload.github.com/lacykaltgr/continual-learning-ait/zip/refs/heads/main\n",
            "Resolving codeload.github.com (codeload.github.com)... 20.205.243.165\n",
            "Connecting to codeload.github.com (codeload.github.com)|20.205.243.165|:443... connected.\n",
            "HTTP request sent, awaiting response... 200 OK\n",
            "Length: unspecified [application/zip]\n",
            "Saving to: ‘main.zip’\n",
            "\n",
            "main.zip                [ <=>                ]   1.72M  --.-KB/s    in 0.1s    \n",
            "\n",
            "2023-05-16 12:06:40 (15.2 MB/s) - ‘main.zip’ saved [1804472]\n",
            "\n",
            "Archive:  main.zip\n",
            "78073f2b860fbe1e8c269de51b1bcaf4804042ed\n",
            "   creating: continual-learning-ait-main/\n",
            "  inflating: continual-learning-ait-main/.gitattributes  \n",
            "  inflating: continual-learning-ait-main/README.md  \n",
            "  inflating: continual-learning-ait-main/classifier.py  \n",
            "  inflating: continual-learning-ait-main/data_preparation.py  \n",
            "   creating: continual-learning-ait-main/dnnlib/\n",
            "  inflating: continual-learning-ait-main/dnnlib/__init__.py  \n",
            "  inflating: continual-learning-ait-main/dnnlib/util.py  \n",
            "  inflating: continual-learning-ait-main/generator.py  \n",
            "   creating: continual-learning-ait-main/guided_diffusion/\n",
            "  inflating: continual-learning-ait-main/guided_diffusion/__init__.py  \n",
            "  inflating: continual-learning-ait-main/guided_diffusion/dist_util.py  \n",
            "  inflating: continual-learning-ait-main/guided_diffusion/fp16_util.py  \n",
            "  inflating: continual-learning-ait-main/guided_diffusion/gaussian_diffusion.py  \n",
            "  inflating: continual-learning-ait-main/guided_diffusion/logger.py  \n",
            "  inflating: continual-learning-ait-main/guided_diffusion/losses.py  \n",
            "  inflating: continual-learning-ait-main/guided_diffusion/nn.py  \n",
            "  inflating: continual-learning-ait-main/guided_diffusion/resample.py  \n",
            "  inflating: continual-learning-ait-main/guided_diffusion/respace.py  \n",
            "  inflating: continual-learning-ait-main/guided_diffusion/script_util.py  \n",
            "  inflating: continual-learning-ait-main/guided_diffusion/train_util.py  \n",
            "  inflating: continual-learning-ait-main/guided_diffusion/unet.py  \n",
            "  inflating: continual-learning-ait-main/img.png  \n",
            "  inflating: continual-learning-ait-main/main.ipynb  \n",
            "   creating: continual-learning-ait-main/models/\n",
            "  inflating: continual-learning-ait-main/models/classifier.h5  \n",
            "  inflating: continual-learning-ait-main/models/encoder.h5  \n",
            "   creating: continual-learning-ait-main/notebooks/\n",
            "  inflating: continual-learning-ait-main/notebooks/classifier.ipynb  \n",
            "  inflating: continual-learning-ait-main/notebooks/data_preparation.ipynb  \n",
            "  inflating: continual-learning-ait-main/notebooks/generator.ipynb  \n",
            "   creating: continual-learning-ait-main/torch_utils/\n",
            "  inflating: continual-learning-ait-main/torch_utils/__init__.py  \n",
            "  inflating: continual-learning-ait-main/torch_utils/distributed.py  \n",
            "  inflating: continual-learning-ait-main/torch_utils/misc.py  \n",
            "  inflating: continual-learning-ait-main/torch_utils/persistence.py  \n",
            "  inflating: continual-learning-ait-main/torch_utils/training_stats.py  \n",
            "  inflating: continual-learning-ait-main/utils.py  \n",
            "Mounted at /content/drive\n"
          ]
        }
      ],
      "source": [
        "'''Download the files '''\n",
        "'''Only for colab'''\n",
        "useColab = True\n",
        "useDrive = True\n",
        "\n",
        "if useColab:\n",
        "    !wget https://github.com/lacykaltgr/continual-learning-ait/archive/refs/heads/main.zip\n",
        "    !unzip main.zip\n",
        "    #!find continual-learning-ait-experiment -type f ! -name \"main.ipynb\" -exec cp {} . \\;\n",
        "    !cd continual-learning-ait-main\n",
        "\n",
        "    import sys\n",
        "    sys.path.append('/content/continual-learning-ait-main')\n",
        "\n",
        "    if useDrive:\n",
        "        from google.colab import drive\n",
        "        drive.mount('/content/drive')\n",
        "        encoder_f = '/drive/MyDrive/continual-learning-ait/checkpoints/32x32_classifier.pt'\n",
        "        scorenet_f = 'drive/MyDrive/continual-learning-ait/checkpoints/edm-cifar10-32x32-cond-vp.pkl'\n",
        "    #else:\n",
        "        #!wget https://nvlabs-fi-cdn.nvidia.com/edm/pretrained/edm-cifar10-32x32-cond-vp.pkl\n",
        "\n",
        "       #!wget https://nvlabs-fi-cdn.nvidia.com/edm/pretrained/32x32_classifier.pt"
      ]
    },
    {
      "cell_type": "code",
      "execution_count": 3,
      "metadata": {
        "id": "vjfVuEmXECoL"
      },
      "outputs": [],
      "source": [
        "import numpy as np\n",
        "import tensorflow as tf\n",
        "import keras\n",
        "\n",
        "import torch\n",
        "import torchvision.transforms as transforms\n",
        "\n",
        "from sklearn.metrics import accuracy_score\n",
        "#from sklearn.metrics import classification_report\n",
        "#from keras.metrics import Accuracy\n",
        "\n",
        "from generator import Generator\n",
        "from classifier import Classifier\n",
        "import utils\n",
        "from data_preparation import load_dataset, CLDataLoader, RealFakeConditionalDataset\n",
        "\n",
        "import gc\n",
        "import os\n",
        "os.environ['TF_CPP_MIN_LOG_LEVEL'] = '2'\n",
        "\n",
        "import importlib"
      ]
    },
    {
      "cell_type": "markdown",
      "source": [
        "# Load the dataset"
      ],
      "metadata": {
        "collapsed": false,
        "id": "zzYWiWfZ8kVi"
      }
    },
    {
      "cell_type": "code",
      "execution_count": 4,
      "metadata": {
        "id": "TaH3bi-5crqD",
        "outputId": "863e0b23-cef2-4ab4-bdf0-f82b8531d26b",
        "colab": {
          "base_uri": "https://localhost:8080/"
        }
      },
      "outputs": [
        {
          "output_type": "stream",
          "name": "stdout",
          "text": [
            "Downloading data from https://www.cs.toronto.edu/~kriz/cifar-10-python.tar.gz\n",
            "170498071/170498071 [==============================] - 13s 0us/step\n"
          ]
        }
      ],
      "source": [
        "dpt_train, dpt_test = load_dataset('cifar-10', n_classes_first_task=4, n_classes_other_task=3)"
      ]
    },
    {
      "cell_type": "code",
      "execution_count": 5,
      "metadata": {
        "id": "yIESUurDeOCR"
      },
      "outputs": [],
      "source": [
        "batch_size = 128\n",
        "train_loader = CLDataLoader(dpt_train, batch_size , train=True)\n",
        "test_loader = CLDataLoader(dpt_test, batch_size, train=False)"
      ]
    },
    {
      "cell_type": "markdown",
      "source": [
        "# Define parameters and agent"
      ],
      "metadata": {
        "collapsed": false,
        "id": "3Jl-cBYs8kVj"
      }
    },
    {
      "cell_type": "code",
      "execution_count": 51,
      "metadata": {
        "id": "GY9MAk581iYQ"
      },
      "outputs": [],
      "source": [
        "params = {\n",
        "    #general\n",
        "    \"n_runs\": 1,\n",
        "    \"n_tasks\": 3,\n",
        "    \"n_classes\": 10,\n",
        "    \"input_shape\": (32, 32, 3),\n",
        "    \"batch_size\": batch_size,\n",
        "    \"print_every\": 1,\n",
        "    \"device\": \"cuda\" if torch.cuda.is_available() else \"cpu\",\n",
        "    \"img_resolution\": 32,\n",
        "    \"classes_learned\": [4, 3, 3],\n",
        "\n",
        "    #classifier\n",
        "    \"cls_iters\": 1,\n",
        "    \"cls_lr\": 1e-2,\n",
        "    \"cls_epochs\": 5,\n",
        "\n",
        "    #generator\n",
        "    \"gen_epochs\": 2,\n",
        "    \"gen_lr\": 3e-4,\n",
        "\n",
        "    #mir\n",
        "    \"n_mem\": 1,\n",
        "    \"mir_iters\": 2,\n",
        "    \"reuse_samples\": False,\n",
        "    \"mem_coeff\": 0.12,\n",
        "\n",
        "    \"z_size\": 10,\n",
        "    \"xent_coeff\": 0.1,\n",
        "    \"ent_coeff\": 0.1,\n",
        "    \"div_coeff\": 0.1,\n",
        "    \"shell_coeff\": 0.1,\n",
        "}"
      ]
    },
    {
      "cell_type": "code",
      "execution_count": 7,
      "metadata": {
        "id": "OmitFSMM2WJn"
      },
      "outputs": [],
      "source": [
        "'''Agent to handle models, parameters and states'''\n",
        "\n",
        "class Agent:\n",
        "  def __init__(self, hparams):\n",
        "    self.params = hparams\n",
        "    self.state = dict()\n",
        "\n",
        "    self.classifier = None\n",
        "    self.generator = None\n",
        "\n",
        "    self.optimizer = None\n",
        "    self.optimizer_gen = None\n",
        "\n",
        "    self.loss = None\n",
        "    self.loss_gen = None\n",
        "\n",
        "    self.eval = accuracy_score\n",
        "\n",
        "\n",
        "  def set_models(\n",
        "          self,\n",
        "          _generator=None,\n",
        "          _classifier=None,\n",
        "    ):\n",
        "    cls = _classifier #classifier\n",
        "    gen = _generator  #generator\n",
        "\n",
        "    # losses\n",
        "    self.loss = tf.keras.losses.CategoricalCrossentropy()\n",
        "    self.loss_gen = torch.nn.BCELoss()\n",
        "\n",
        "    # optimizers\n",
        "    self.optimizer = tf.keras.optimizers.legacy.Adam(learning_rate=params[\"cls_lr\"])\n",
        "    self.optimizer_gen = torch.optim.Adam(gen.discriminator.parameters(), lr=agent.params[\"gen_lr\"], weight_decay=1e-7)\n",
        "\n",
        "    # classifier pipeline\n",
        "    data_input = keras.Input(shape=self.params[\"input_shape\"], name=\"image\")\n",
        "    cls_output = cls(data_input)\n",
        "    self.classifier = keras.Model(inputs=data_input, outputs=cls_output)\n",
        "    self.classifier.compile(optimizer=self.optimizer, loss=self.loss, metrics=[\"accuracy\"])\n",
        "\n",
        "    # generator pipeline\n",
        "    self.generator = gen"
      ]
    },
    {
      "cell_type": "markdown",
      "source": [
        "# Functions for training"
      ],
      "metadata": {
        "collapsed": false,
        "id": "OPqiS9VV8kVk"
      }
    },
    {
      "cell_type": "code",
      "execution_count": 8,
      "outputs": [],
      "source": [
        "'''Generate samples and train the diffusion model at the same time'''\n",
        "\n",
        "def generate(\n",
        "        agent,\n",
        "        num_samples,\n",
        "        dg_weight_1st_order=1,\n",
        "        dg_weight_2nd_order=0,\n",
        "        boosting = 1,\n",
        "        time_min= 0.01, time_max= 1,\n",
        "        class_idx=None,\n",
        "):\n",
        "    latents = torch.randn([num_samples, agent.generator.net.img_channels, agent.params[\"img_resolution\"], agent.params[\"img_resolution\"]], device=agent.params['device'])\n",
        "\n",
        "    class_labels = torch.eye(agent.params['n_classes'], device=agent.params['device'])[torch.randint(agent.params['classes_learned'][agent.state[\"tasks_learned\"]]-1, size=[num_samples], device=agent.params['device'])]\n",
        "    if class_idx is not None:\n",
        "        class_labels[:, :] = 0\n",
        "        class_labels[:, class_idx] = 1\n",
        "\n",
        "\n",
        "    images = agent.generator.sample(boosting, time_min, time_max, dg_weight_1st_order, dg_weight_2nd_order, latents, class_labels)\n",
        "    images = torch.transpose(images, 1, 3)\n",
        "    images = torch.transpose(images, 1, 2)\n",
        "    images, class_labels = images.cpu(), class_labels.cpu()\n",
        "    images, class_labels = images.numpy(), class_labels.numpy()\n",
        "    images, class_labels = tf.convert_to_tensor(images), tf.convert_to_tensor(class_labels)\n",
        "    return images, class_labels\n"
      ],
      "metadata": {
        "id": "2BgWNzhg8kVk"
      }
    },
    {
      "cell_type": "code",
      "execution_count": 27,
      "outputs": [],
      "source": [
        "'''Retrive maximally interferred latent vector for classifier'''\n",
        "\n",
        "def retrieve_mir(agent):\n",
        "\n",
        "    virtual_cls = Classifier()\n",
        "    virtual_cls = utils.get_next_step_cls(\n",
        "        agent.classifier,\n",
        "        virtual_cls,\n",
        "        agent.state[\"task_train_samples\"],\n",
        "        agent.state[\"task_train_targets\"]\n",
        "    )\n",
        "\n",
        "    final_generated = None\n",
        "    final_labels = None\n",
        "    for i in range(agent.params[\"n_mem\"]):\n",
        "\n",
        "        generated, labels = generate(agent, agent.params[\"batch_size\"])\n",
        "\n",
        "        for j in range(params[\"mir_iters\"]):\n",
        "            with tf.GradientTape(persistent=True) as tape:\n",
        "\n",
        "                tape.watch(generated)\n",
        "\n",
        "                y_pre = agent.classifier(generated)\n",
        "                y_virtual = virtual_cls(generated)\n",
        "\n",
        "                # maximise the interference:\n",
        "                XENT = tf.constant(0.)\n",
        "                if params[\"xent_coeff\"] > 0.:\n",
        "                    XENT = tf.keras.losses.categorical_crossentropy(y_virtual, y_pre)\n",
        "\n",
        "                # the predictions from the two models should be confident\n",
        "                ENT = tf.constant(0.)\n",
        "                if params[\"ent_coeff\"] > 0.:\n",
        "                    ENT = tf.keras.losses.categorical_crossentropy(y_pre, y_pre)\n",
        "\n",
        "                # the new-found samples should be different from each others\n",
        "                DIV = tf.constant(0.)\n",
        "                if params[\"div_coeff\"] > 0.:\n",
        "                    for found_generated in range(i):\n",
        "                        DIV += tf.cast(tf.keras.losses.MSE(\n",
        "                            generated,\n",
        "                            final_generated[found_generated * generated.shape[0]:found_generated * generated.shape[0] + generated.shape[0]]\n",
        "                        ) / i, tf.float32)\n",
        "\n",
        "                # (NEW) stay on gaussian shell loss:\n",
        "                SHELL = tf.constant(0.)\n",
        "                if params[\"shell_coeff\"] > 0.:\n",
        "                    SHELL = tf.keras.losses.MSE(\n",
        "                        tf.norm(generated, axis=1),\n",
        "                        tf.ones_like(tf.norm(generated, axis=1))*np.sqrt(params[\"z_size\"])\n",
        "                    )\n",
        "\n",
        "                XENT, ENT, DIV, SHELL = \\\n",
        "                    tf.cast(tf.reduce_mean(XENT), dtype=tf.float64), \\\n",
        "                    tf.cast(tf.reduce_mean(ENT), dtype=tf.float64), \\\n",
        "                    tf.cast(tf.reduce_mean(DIV), dtype=tf.float64), \\\n",
        "                    tf.cast(tf.reduce_mean(SHELL), dtype=tf.float64)\n",
        "\n",
        "                gain = params[\"xent_coeff\"] * XENT + \\\n",
        "                       -params[\"ent_coeff\"] * ENT + \\\n",
        "                       params[\"div_coeff\"] * DIV + \\\n",
        "                       -params[\"shell_coeff\"] * SHELL\n",
        "\n",
        "            gen_grad = tape.gradient(gain, generated)\n",
        "            if gen_grad is not None:\n",
        "                generated = (generated + 1 * gen_grad)\n",
        "\n",
        "        if final_generated is None:\n",
        "            final_generated = generated.numpy().copy()\n",
        "            final_labels = labels.numpy().copy()\n",
        "        else:\n",
        "            final_generated = np.concatenate([final_generated, generated.numpy().copy()])\n",
        "            final_labels = np.concatenate([final_labels, labels.numpy().copy()])\n",
        "\n",
        "    tf.stop_gradient(final_generated)\n",
        "\n",
        "    return final_generated, final_labels"
      ],
      "metadata": {
        "id": "OlENSPig8kVl"
      }
    },
    {
      "cell_type": "code",
      "execution_count": 10,
      "metadata": {
        "id": "lM8aEv6833SS"
      },
      "outputs": [],
      "source": [
        "'''Train the generator unit'''\n",
        "\n",
        "def train_generator(agent, real_fake_loader):\n",
        "    scaler = lambda x: 2. * x - 1.\n",
        "\n",
        "    # Training\n",
        "    outs = []\n",
        "    cors = []\n",
        "    for data in real_fake_loader:\n",
        "        agent.optimizer_gen.zero_grad()\n",
        "\n",
        "        inputs, labels, cond = data\n",
        "        cond = cond.to(agent.params[\"device\"])\n",
        "        inputs = inputs.to(agent.params[\"device\"])\n",
        "        labels = labels.to(agent.params[\"device\"])\n",
        "        inputs = scaler(inputs)\n",
        "\n",
        "        # Data perturbation\n",
        "        t, _ = agent.generator.vpsde.get_diffusion_time(inputs.shape[0], inputs.device)\n",
        "        mean, std = agent.generator.vpsde.marginal_prob(t)\n",
        "        z = torch.randn_like(inputs)\n",
        "        perturbed_inputs = mean[:, None, None, None] * inputs + std[:, None, None, None] * z\n",
        "\n",
        "        # Forward\n",
        "        with torch.no_grad():\n",
        "            pretrained_feature = agent.generator.encoder(perturbed_inputs, timesteps=t, feature=True).type(torch.cuda.FloatTensor)\n",
        "        label_prediction = agent.generator.discriminator(pretrained_feature, t, sigmoid=True, condition=cond).view(-1)\n",
        "\n",
        "        # Backward\n",
        "        out = agent.loss_gen(label_prediction, labels)\n",
        "        out.backward()\n",
        "        agent.optimizer_gen.step()\n",
        "\n",
        "        # Report\n",
        "        cor = ((label_prediction > 0.5).float() == labels).float().mean()\n",
        "        agent.state[\"eval\"][\"correction_rate\"][-1].append(out.item())\n",
        "        agent.state[\"eval\"][\"discriminator_loss\"][-1].append(cor.item())"
      ]
    },
    {
      "cell_type": "code",
      "execution_count": null,
      "metadata": {
        "id": "AXTbt9sT8gHE"
      },
      "outputs": [],
      "source": [
        "'''Train the encoder and the classifier unit'''\n",
        "\n",
        "def train_classifier(agent):\n",
        "\n",
        "    mem_x, mem_y = None, None\n",
        "\n",
        "    for it in range(agent.params[\"cls_iters\"]):\n",
        "        history = agent.classifier.fit(agent.state[\"data\"], agent.state[\"target\"], batch_size=agent.params[\"batch_size\"], epochs=1, verbose=0)\n",
        "        if agent.state[\"task\"] > 0:\n",
        "            if it == 0 or not agent.params[\"reuse_samples\"]:\n",
        "                mem_x, mem_y = retrieve_mir(agent, agent.state[\"data\"], agent.state[\"target\"])\n",
        "\n",
        "            if mem_x is not None:\n",
        "                mem_history = agent.classifier.fit(mem_x, mem_y, batch_size=agent.params[\"batch_size\"], epochs=1, verbose=0)\n",
        "\n",
        "                agent.state[\"eval\"][\"retr_cls_loss\"][-1].append(mem_history.history[\"loss\"][0])\n",
        "                agent.state[\"eval\"][\"retr_cls_accuracy\"][-1].append(mem_history.history[\"accuracy\"][0])\n",
        "        agent.state[\"eval\"][\"cls_loss\"][-1].append(history.history[\"loss\"][0])\n",
        "        agent.state[\"eval\"][\"cls_acc\"][-1].append(history.history[\"accuracy\"][0])"
      ]
    },
    {
      "cell_type": "code",
      "execution_count": 20,
      "outputs": [],
      "source": [
        "'''Run an epoch'''\n",
        "\n",
        "def run_cls_epoch(agent):\n",
        "\n",
        "    print(f\"Epoch: {agent.state['epoch']} on Classifier\")\n",
        "\n",
        "    agent.state[\"eval\"][\"cls_loss\"].append([])\n",
        "    agent.state[\"eval\"][\"cls_acc\"].append([])\n",
        "    agent.state[\"eval\"][\"retr_cls_loss\"].append([])\n",
        "    agent.state[\"eval\"][\"retr_cls_accuracy\"].append([])\n",
        "\n",
        "    mem_x, mem_y = retrieve_mir(agent)\n",
        "    train_data = np.concatenate((agent.state[\"task_train_samples\"], mem_x))\n",
        "    train_target = np.concatenate((agent.state[\"task_train_targets\"], mem_y))\n",
        "\n",
        "    classifier_loader = ClassifierDataset(train_data, train_target)\n",
        " \n",
        "    for i, (data, target) in enumerate(agent.state[\"tr_loader\"]):\n",
        "        agent.state[\"data\"] = data\n",
        "        agent.state[\"target\"] = target\n",
        "        train_classifier(agent)\n",
        "\n",
        "    '''Evaluate the models in epoch'''\n",
        "    if agent.state[\"epoch\"] % agent.params[\"print_every\"] == 0:\n",
        "        print(f\"    Classifier loss: {np.mean(agent.state['eval']['cls_loss'][-1])}\"\n",
        "              f\"    Classifier accuracy: {np.mean(agent.state['eval']['cls_acc'][-1])}\" +\n",
        "              (f\"    Retrieval loss: {np.mean(agent.state['eval']['retr_cls_loss'][-1])}\" if agent.state[\"task\"] > 0 else \"\") +\n",
        "              (f\"    Retrieval accuracy: {np.mean(agent.state['eval']['retr_cls_accuracy'][-1])}\" if agent.state[\"task\"] > 0 else \"\"))"
      ],
      "metadata": {
        "id": "xmJWM9GCzym_"
      }
    },
    {
      "cell_type": "code",
      "source": [
        "'''Run an epoch'''\n",
        "\n",
        "def run_gen_epoch(agent):\n",
        "  \n",
        "    print(f\"Epoch: {agent.state['epoch']} on Generator\")\n",
        "    \n",
        "    agent.state[\"eval\"][\"discriminator_loss\"].append([])\n",
        "    agent.state[\"eval\"][\"correction_rate\"].append([])\n",
        "\n",
        "    real_samples, real_labels = agent.state[\"task_train_samples\"], agent.state[\"task_train_targets\"]\n",
        "    fake_samples, fake_labels = generate(\n",
        "        agent, len(real_samples) , dg_weight_1st_order=0, dg_weight_2nd_order=0, boosting=0)\n",
        "\n",
        "    train_data = np.concatenate((real_samples, fake_samples))\n",
        "    train_label = torch.zeros(train_data.shape[0])\n",
        "    train_label[:real_samples.shape[0]] = 1.\n",
        "    transform = transforms.Compose([transforms.ToTensor()])\n",
        "    condition_label = np.concatenate((real_labels, fake_labels))\n",
        "    train_dataset = RealFakeConditionalDataset(train_data, train_label, condition_label, transform)\n",
        "\n",
        "    real_fake_loader  = torch.utils.data.DataLoader(dataset=train_dataset, batch_size=agent.params[\"batch_size\"], shuffle=True)\n",
        "    train_generator(agent, real_fake_loader)\n",
        "    \n",
        "\n",
        "    '''Evaluate the models in epoch'''\n",
        "    if agent.state[\"epoch\"] % agent.params[\"print_every\"] == 0:\n",
        "        print(f\"    Discriminator loss: {np.mean(agent.state['eval']['discriminator_loss'][-1])}\"\n",
        "              f\"    Correction rate: {np.mean(agent.state['eval']['correction_rate'][-1])}\")"
      ],
      "metadata": {
        "id": "K48EQq7VGuI-"
      },
      "execution_count": 21,
      "outputs": []
    },
    {
      "cell_type": "code",
      "execution_count": 42,
      "metadata": {
        "id": "0SyPNSep_K0t"
      },
      "outputs": [],
      "source": [
        "'''Run a task'''\n",
        "\n",
        "def run_task(agent):\n",
        "\n",
        "    print(f\"\\n#############\\n\"\n",
        "          f\"  TASK {agent.state['task']}\\n\"\n",
        "          f\"#############\\n\")\n",
        "  \n",
        "    for epoch in range(agent.params[\"cls_epochs\"]):\n",
        "        agent.state[\"epoch\"] = epoch\n",
        "        run_cls_epoch(agent)\n",
        "    agent.state[\"tasks_learned\"] += 1\n",
        "\n",
        "    print(\"\\n\")\n",
        "\n",
        "    for epoch in range(agent.params[\"gen_epochs\"]):\n",
        "        agent.state[\"epoch\"] = epoch\n",
        "        run_gen_epoch(agent)\n",
        "\n",
        "\n",
        "    '''Evaluate forgetting'''\n",
        "    print(\"\\nEvaluate Task: \", agent.state[\"task\"])\n",
        "    for i in range(agent.state[\"task\"]+1):\n",
        "        data, target = dpt_test[i]\n",
        "        logits = agent.classifier.predict(data, batch_size=256)\n",
        "        #loss\n",
        "        loss = agent.loss(logits, target)\n",
        "        #accuracy\n",
        "        pred = np.argmax(logits, axis=1)\n",
        "        y = np.argmax(target, axis=1)\n",
        "        accuracy = agent.eval(y, pred)\n",
        "    print(f\"    Task {agent.state['task']} forgetting on task {i} : \"\n",
        "          f\"        Loss: {np.mean(loss)}\"\n",
        "          f\"        ACC: {np.mean(accuracy)}\")"
      ]
    },
    {
      "cell_type": "code",
      "execution_count": 23,
      "metadata": {
        "id": "VhbA5MCFCi4r"
      },
      "outputs": [],
      "source": [
        "'''Run the experiment'''\n",
        "\n",
        "def run(agent):\n",
        "    agent.state[\"eval\"] = dict()\n",
        "    agent.state[\"tasks_learned\"] = 0\n",
        "    agent.state[\"eval\"][\"cls_loss\"] = []\n",
        "    agent.state[\"eval\"][\"cls_acc\"] = []\n",
        "    agent.state[\"eval\"][\"retr_cls_loss\"] = []\n",
        "    agent.state[\"eval\"][\"retr_cls_accuracy\"] = []\n",
        "    agent.state[\"eval\"][\"discriminator_loss\"] = []\n",
        "    agent.state[\"eval\"][\"correction_rate\"] = []\n",
        "    for r in range(agent.params[\"n_runs\"]):\n",
        "        agent.state[\"run\"] = r\n",
        "        for task, (tr_loader, ts_loader) in enumerate(zip(dpt_train, dpt_test)):\n",
        "            agent.state[\"task\"] = task\n",
        "            agent.state[\"task_train_samples\"], agent.state[\"task_train_targets\"]  = tr_loader\n",
        "            agent.state[\"task_test_samples\"], agent.state[\"task_test_targets\"] = ts_loader\n",
        "            run_task(agent)"
      ]
    },
    {
      "cell_type": "markdown",
      "source": [
        "# Training"
      ],
      "metadata": {
        "collapsed": false,
        "id": "AoBLwork8kVn"
      }
    },
    {
      "cell_type": "code",
      "execution_count": 16,
      "metadata": {
        "id": "BlPHqKTaC41u"
      },
      "outputs": [],
      "source": [
        "agent = Agent(params)\n",
        "agent.set_models(\n",
        "    _classifier=Classifier(),\n",
        "    _generator=Generator(encoder_path=encoder_f, scorenet_path=scorenet_f),\n",
        ")"
      ]
    },
    {
      "cell_type": "code",
      "source": [
        "run(agent)"
      ],
      "metadata": {
        "id": "jL7eBmbM33Nw",
        "outputId": "b392d847-1570-498b-e1e0-13087b6a359a",
        "colab": {
          "base_uri": "https://localhost:8080/",
          "height": 1000
        }
      },
      "execution_count": 43,
      "outputs": [
        {
          "output_type": "stream",
          "name": "stdout",
          "text": [
            "\n",
            "#############\n",
            "  TASK 0\n",
            "#############\n",
            "\n",
            "Epoch: 0 on Classifier\n",
            "    Classifier loss: 0.38944953699020823    Classifier accuracy: 0.8586285828025477\n",
            "Epoch: 1 on Classifier\n",
            "    Classifier loss: 0.2807658105898815    Classifier accuracy: 0.8975417993630573\n",
            "Epoch: 2 on Classifier\n",
            "    Classifier loss: 0.24176669329594655    Classifier accuracy: 0.9132663216560509\n",
            "Epoch: 3 on Classifier\n",
            "    Classifier loss: 0.23046819424363457    Classifier accuracy: 0.9189390923566879\n",
            "Epoch: 4 on Classifier\n",
            "    Classifier loss: 0.20969912039626176    Classifier accuracy: 0.9230692675159236\n",
            "\n",
            "\n",
            "Epoch: 0 on Generator\n",
            "    Discriminator loss: 0.9922369458252871    Correction rate: 0.04416427313338352\n",
            "Epoch: 1 on Generator\n",
            "    Discriminator loss: 0.9922369458252871    Correction rate: 0.04286144774324626\n",
            "\n",
            "Evaluate Task:  0\n",
            "    Task 0 forgetting on task 0 :         Loss: 2.091749429702759        ACC: 0.8933531746031746\n",
            "\n",
            "#############\n",
            "  TASK 1\n",
            "#############\n",
            "\n",
            "Epoch: 0 on Classifier\n",
            "2/2 [==============================] - 1s 22ms/step - loss: 0.8845 - accuracy: 0.6875\n",
            "2/2 [==============================] - 0s 22ms/step - loss: 2.1396 - accuracy: 0.1914\n"
          ]
        },
        {
          "output_type": "stream",
          "name": "stderr",
          "text": [
            "WARNING:tensorflow:5 out of the last 842 calls to <function Model.make_train_function.<locals>.train_function at 0x7fe2d64a25f0> triggered tf.function retracing. Tracing is expensive and the excessive number of tracings could be due to (1) creating @tf.function repeatedly in a loop, (2) passing tensors with different shapes, (3) passing Python objects instead of tensors. For (1), please define your @tf.function outside of the loop. For (2), @tf.function has reduce_retracing=True option that can avoid unnecessary retracing. For (3), please refer to https://www.tensorflow.org/guide/function#controlling_retracing and https://www.tensorflow.org/api_docs/python/tf/function for  more details.\n"
          ]
        },
        {
          "output_type": "stream",
          "name": "stdout",
          "text": [
            "2/2 [==============================] - 0s 22ms/step - loss: 0.9189 - accuracy: 0.7422\n",
            "2/2 [==============================] - 0s 22ms/step - loss: 0.8759 - accuracy: 0.8320\n",
            "2/2 [==============================] - 0s 22ms/step - loss: 0.8171 - accuracy: 0.8438\n",
            "2/2 [==============================] - 0s 22ms/step - loss: 0.5460 - accuracy: 0.8828\n",
            "2/2 [==============================] - 0s 22ms/step - loss: 0.4755 - accuracy: 0.9297\n",
            "2/2 [==============================] - 0s 28ms/step - loss: 0.4959 - accuracy: 0.8867\n",
            "2/2 [==============================] - 0s 22ms/step - loss: 0.4465 - accuracy: 0.9023\n",
            "2/2 [==============================] - 0s 22ms/step - loss: 0.3781 - accuracy: 0.9102\n",
            "2/2 [==============================] - 0s 22ms/step - loss: 0.4683 - accuracy: 0.8867\n",
            "2/2 [==============================] - 0s 22ms/step - loss: 0.5526 - accuracy: 0.8828\n",
            "2/2 [==============================] - 0s 22ms/step - loss: 0.3583 - accuracy: 0.9258\n",
            "2/2 [==============================] - 0s 22ms/step - loss: 0.3763 - accuracy: 0.8906\n"
          ]
        },
        {
          "output_type": "error",
          "ename": "KeyboardInterrupt",
          "evalue": "ignored",
          "traceback": [
            "\u001b[0;31m---------------------------------------------------------------------------\u001b[0m",
            "\u001b[0;31mKeyboardInterrupt\u001b[0m                         Traceback (most recent call last)",
            "\u001b[0;32m<ipython-input-43-74a7f609a4a4>\u001b[0m in \u001b[0;36m<cell line: 1>\u001b[0;34m()\u001b[0m\n\u001b[0;32m----> 1\u001b[0;31m \u001b[0mrun\u001b[0m\u001b[0;34m(\u001b[0m\u001b[0magent\u001b[0m\u001b[0;34m)\u001b[0m\u001b[0;34m\u001b[0m\u001b[0;34m\u001b[0m\u001b[0m\n\u001b[0m",
            "\u001b[0;32m<ipython-input-23-41136fada665>\u001b[0m in \u001b[0;36mrun\u001b[0;34m(agent)\u001b[0m\n\u001b[1;32m     17\u001b[0m             \u001b[0magent\u001b[0m\u001b[0;34m.\u001b[0m\u001b[0mstate\u001b[0m\u001b[0;34m[\u001b[0m\u001b[0;34m\"ts_loader\"\u001b[0m\u001b[0;34m]\u001b[0m \u001b[0;34m=\u001b[0m \u001b[0mts_loader\u001b[0m\u001b[0;34m\u001b[0m\u001b[0;34m\u001b[0m\u001b[0m\n\u001b[1;32m     18\u001b[0m             \u001b[0magent\u001b[0m\u001b[0;34m.\u001b[0m\u001b[0mstate\u001b[0m\u001b[0;34m[\u001b[0m\u001b[0;34m\"tasks_learned\"\u001b[0m\u001b[0;34m]\u001b[0m \u001b[0;34m+=\u001b[0m \u001b[0;36m1\u001b[0m\u001b[0;34m\u001b[0m\u001b[0;34m\u001b[0m\u001b[0m\n\u001b[0;32m---> 19\u001b[0;31m             \u001b[0mrun_task\u001b[0m\u001b[0;34m(\u001b[0m\u001b[0magent\u001b[0m\u001b[0;34m)\u001b[0m\u001b[0;34m\u001b[0m\u001b[0;34m\u001b[0m\u001b[0m\n\u001b[0m",
            "\u001b[0;32m<ipython-input-42-63859c8f0eb8>\u001b[0m in \u001b[0;36mrun_task\u001b[0;34m(agent)\u001b[0m\n\u001b[1;32m      9\u001b[0m     \u001b[0;32mfor\u001b[0m \u001b[0mepoch\u001b[0m \u001b[0;32min\u001b[0m \u001b[0mrange\u001b[0m\u001b[0;34m(\u001b[0m\u001b[0magent\u001b[0m\u001b[0;34m.\u001b[0m\u001b[0mparams\u001b[0m\u001b[0;34m[\u001b[0m\u001b[0;34m\"cls_epochs\"\u001b[0m\u001b[0;34m]\u001b[0m\u001b[0;34m)\u001b[0m\u001b[0;34m:\u001b[0m\u001b[0;34m\u001b[0m\u001b[0;34m\u001b[0m\u001b[0m\n\u001b[1;32m     10\u001b[0m         \u001b[0magent\u001b[0m\u001b[0;34m.\u001b[0m\u001b[0mstate\u001b[0m\u001b[0;34m[\u001b[0m\u001b[0;34m\"epoch\"\u001b[0m\u001b[0;34m]\u001b[0m \u001b[0;34m=\u001b[0m \u001b[0mepoch\u001b[0m\u001b[0;34m\u001b[0m\u001b[0;34m\u001b[0m\u001b[0m\n\u001b[0;32m---> 11\u001b[0;31m         \u001b[0mrun_cls_epoch\u001b[0m\u001b[0;34m(\u001b[0m\u001b[0magent\u001b[0m\u001b[0;34m)\u001b[0m\u001b[0;34m\u001b[0m\u001b[0;34m\u001b[0m\u001b[0m\n\u001b[0m\u001b[1;32m     12\u001b[0m \u001b[0;34m\u001b[0m\u001b[0m\n\u001b[1;32m     13\u001b[0m     \u001b[0mprint\u001b[0m\u001b[0;34m(\u001b[0m\u001b[0;34m\"\\n\"\u001b[0m\u001b[0;34m)\u001b[0m\u001b[0;34m\u001b[0m\u001b[0;34m\u001b[0m\u001b[0m\n",
            "\u001b[0;32m<ipython-input-20-12dd2963a9fb>\u001b[0m in \u001b[0;36mrun_cls_epoch\u001b[0;34m(agent)\u001b[0m\n\u001b[1;32m     13\u001b[0m         \u001b[0magent\u001b[0m\u001b[0;34m.\u001b[0m\u001b[0mstate\u001b[0m\u001b[0;34m[\u001b[0m\u001b[0;34m\"data\"\u001b[0m\u001b[0;34m]\u001b[0m \u001b[0;34m=\u001b[0m \u001b[0mdata\u001b[0m\u001b[0;34m\u001b[0m\u001b[0;34m\u001b[0m\u001b[0m\n\u001b[1;32m     14\u001b[0m         \u001b[0magent\u001b[0m\u001b[0;34m.\u001b[0m\u001b[0mstate\u001b[0m\u001b[0;34m[\u001b[0m\u001b[0;34m\"target\"\u001b[0m\u001b[0;34m]\u001b[0m \u001b[0;34m=\u001b[0m \u001b[0mtarget\u001b[0m\u001b[0;34m\u001b[0m\u001b[0;34m\u001b[0m\u001b[0m\n\u001b[0;32m---> 15\u001b[0;31m         \u001b[0mtrain_classifier\u001b[0m\u001b[0;34m(\u001b[0m\u001b[0magent\u001b[0m\u001b[0;34m)\u001b[0m\u001b[0;34m\u001b[0m\u001b[0;34m\u001b[0m\u001b[0m\n\u001b[0m\u001b[1;32m     16\u001b[0m \u001b[0;34m\u001b[0m\u001b[0m\n\u001b[1;32m     17\u001b[0m     \u001b[0;34m'''Evaluate the models in epoch'''\u001b[0m\u001b[0;34m\u001b[0m\u001b[0;34m\u001b[0m\u001b[0m\n",
            "\u001b[0;32m<ipython-input-11-6abf4b313f84>\u001b[0m in \u001b[0;36mtrain_classifier\u001b[0;34m(agent)\u001b[0m\n\u001b[1;32m     10\u001b[0m         \u001b[0;32mif\u001b[0m \u001b[0magent\u001b[0m\u001b[0;34m.\u001b[0m\u001b[0mstate\u001b[0m\u001b[0;34m[\u001b[0m\u001b[0;34m\"task\"\u001b[0m\u001b[0;34m]\u001b[0m \u001b[0;34m>\u001b[0m \u001b[0;36m0\u001b[0m\u001b[0;34m:\u001b[0m\u001b[0;34m\u001b[0m\u001b[0;34m\u001b[0m\u001b[0m\n\u001b[1;32m     11\u001b[0m             \u001b[0;32mif\u001b[0m \u001b[0mit\u001b[0m \u001b[0;34m==\u001b[0m \u001b[0;36m0\u001b[0m \u001b[0;32mor\u001b[0m \u001b[0;32mnot\u001b[0m \u001b[0magent\u001b[0m\u001b[0;34m.\u001b[0m\u001b[0mparams\u001b[0m\u001b[0;34m[\u001b[0m\u001b[0;34m\"reuse_samples\"\u001b[0m\u001b[0;34m]\u001b[0m\u001b[0;34m:\u001b[0m\u001b[0;34m\u001b[0m\u001b[0;34m\u001b[0m\u001b[0m\n\u001b[0;32m---> 12\u001b[0;31m                 \u001b[0mmem_x\u001b[0m\u001b[0;34m,\u001b[0m \u001b[0mmem_y\u001b[0m \u001b[0;34m=\u001b[0m \u001b[0mretrieve_mir\u001b[0m\u001b[0;34m(\u001b[0m\u001b[0magent\u001b[0m\u001b[0;34m,\u001b[0m \u001b[0magent\u001b[0m\u001b[0;34m.\u001b[0m\u001b[0mstate\u001b[0m\u001b[0;34m[\u001b[0m\u001b[0;34m\"data\"\u001b[0m\u001b[0;34m]\u001b[0m\u001b[0;34m,\u001b[0m \u001b[0magent\u001b[0m\u001b[0;34m.\u001b[0m\u001b[0mstate\u001b[0m\u001b[0;34m[\u001b[0m\u001b[0;34m\"target\"\u001b[0m\u001b[0;34m]\u001b[0m\u001b[0;34m)\u001b[0m\u001b[0;34m\u001b[0m\u001b[0;34m\u001b[0m\u001b[0m\n\u001b[0m\u001b[1;32m     13\u001b[0m \u001b[0;34m\u001b[0m\u001b[0m\n\u001b[1;32m     14\u001b[0m             \u001b[0;32mif\u001b[0m \u001b[0mmem_x\u001b[0m \u001b[0;32mis\u001b[0m \u001b[0;32mnot\u001b[0m \u001b[0;32mNone\u001b[0m\u001b[0;34m:\u001b[0m\u001b[0;34m\u001b[0m\u001b[0;34m\u001b[0m\u001b[0m\n",
            "\u001b[0;32m<ipython-input-27-15bfa21f0adb>\u001b[0m in \u001b[0;36mretrieve_mir\u001b[0;34m(agent, samples, target)\u001b[0m\n\u001b[1;32m      5\u001b[0m \u001b[0;34m\u001b[0m\u001b[0m\n\u001b[1;32m      6\u001b[0m     \u001b[0mvirtual_cls\u001b[0m \u001b[0;34m=\u001b[0m \u001b[0mClassifier\u001b[0m\u001b[0;34m(\u001b[0m\u001b[0;34m)\u001b[0m\u001b[0;34m\u001b[0m\u001b[0;34m\u001b[0m\u001b[0m\n\u001b[0;32m----> 7\u001b[0;31m     virtual_cls = utils.get_next_step_cls(\n\u001b[0m\u001b[1;32m      8\u001b[0m         \u001b[0magent\u001b[0m\u001b[0;34m.\u001b[0m\u001b[0mclassifier\u001b[0m\u001b[0;34m,\u001b[0m\u001b[0;34m\u001b[0m\u001b[0;34m\u001b[0m\u001b[0m\n\u001b[1;32m      9\u001b[0m         \u001b[0mvirtual_cls\u001b[0m\u001b[0;34m,\u001b[0m\u001b[0;34m\u001b[0m\u001b[0;34m\u001b[0m\u001b[0m\n",
            "\u001b[0;32m/content/continual-learning-ait-main/utils.py\u001b[0m in \u001b[0;36mget_next_step_cls\u001b[0;34m(current_classifier, virtual_classifier, sample, target)\u001b[0m\n\u001b[1;32m     78\u001b[0m     \u001b[0mvirtual_classifier\u001b[0m\u001b[0;34m.\u001b[0m\u001b[0mbuild\u001b[0m\u001b[0;34m(\u001b[0m\u001b[0minput_shape\u001b[0m\u001b[0;34m=\u001b[0m\u001b[0;34m(\u001b[0m\u001b[0;32mNone\u001b[0m\u001b[0;34m,\u001b[0m \u001b[0;34m*\u001b[0m\u001b[0msample\u001b[0m\u001b[0;34m.\u001b[0m\u001b[0mshape\u001b[0m\u001b[0;34m[\u001b[0m\u001b[0;36m1\u001b[0m\u001b[0;34m:\u001b[0m\u001b[0;34m]\u001b[0m\u001b[0;34m)\u001b[0m\u001b[0;34m)\u001b[0m\u001b[0;34m\u001b[0m\u001b[0;34m\u001b[0m\u001b[0m\n\u001b[1;32m     79\u001b[0m     \u001b[0mvirtual_classifier\u001b[0m\u001b[0;34m.\u001b[0m\u001b[0mcompile\u001b[0m\u001b[0;34m(\u001b[0m\u001b[0moptimizer\u001b[0m\u001b[0;34m=\u001b[0m\u001b[0;34m\"adam\"\u001b[0m\u001b[0;34m,\u001b[0m \u001b[0mloss\u001b[0m\u001b[0;34m=\u001b[0m\u001b[0;34m\"categorical_crossentropy\"\u001b[0m\u001b[0;34m,\u001b[0m \u001b[0mmetrics\u001b[0m\u001b[0;34m=\u001b[0m\u001b[0;34m[\u001b[0m\u001b[0;34m\"accuracy\"\u001b[0m\u001b[0;34m]\u001b[0m\u001b[0;34m)\u001b[0m\u001b[0;34m\u001b[0m\u001b[0;34m\u001b[0m\u001b[0m\n\u001b[0;32m---> 80\u001b[0;31m     \u001b[0mvirtual_classifier\u001b[0m\u001b[0;34m.\u001b[0m\u001b[0mfit\u001b[0m\u001b[0;34m(\u001b[0m\u001b[0msample\u001b[0m\u001b[0;34m,\u001b[0m \u001b[0mtarget\u001b[0m\u001b[0;34m,\u001b[0m \u001b[0msample\u001b[0m\u001b[0;34m.\u001b[0m\u001b[0mshape\u001b[0m\u001b[0;34m[\u001b[0m\u001b[0;36m0\u001b[0m\u001b[0;34m]\u001b[0m\u001b[0;34m,\u001b[0m \u001b[0mepochs\u001b[0m\u001b[0;34m=\u001b[0m\u001b[0;36m1\u001b[0m\u001b[0;34m,\u001b[0m \u001b[0mverbose\u001b[0m\u001b[0;34m=\u001b[0m\u001b[0;36m0\u001b[0m\u001b[0;34m)\u001b[0m\u001b[0;34m\u001b[0m\u001b[0;34m\u001b[0m\u001b[0m\n\u001b[0m\u001b[1;32m     81\u001b[0m     \u001b[0;32mreturn\u001b[0m \u001b[0mvirtual_classifier\u001b[0m\u001b[0;34m\u001b[0m\u001b[0;34m\u001b[0m\u001b[0m\n\u001b[1;32m     82\u001b[0m \u001b[0;34m\u001b[0m\u001b[0m\n",
            "\u001b[0;32m/usr/local/lib/python3.10/dist-packages/keras/utils/traceback_utils.py\u001b[0m in \u001b[0;36merror_handler\u001b[0;34m(*args, **kwargs)\u001b[0m\n\u001b[1;32m     63\u001b[0m         \u001b[0mfiltered_tb\u001b[0m \u001b[0;34m=\u001b[0m \u001b[0;32mNone\u001b[0m\u001b[0;34m\u001b[0m\u001b[0;34m\u001b[0m\u001b[0m\n\u001b[1;32m     64\u001b[0m         \u001b[0;32mtry\u001b[0m\u001b[0;34m:\u001b[0m\u001b[0;34m\u001b[0m\u001b[0;34m\u001b[0m\u001b[0m\n\u001b[0;32m---> 65\u001b[0;31m             \u001b[0;32mreturn\u001b[0m \u001b[0mfn\u001b[0m\u001b[0;34m(\u001b[0m\u001b[0;34m*\u001b[0m\u001b[0margs\u001b[0m\u001b[0;34m,\u001b[0m \u001b[0;34m**\u001b[0m\u001b[0mkwargs\u001b[0m\u001b[0;34m)\u001b[0m\u001b[0;34m\u001b[0m\u001b[0;34m\u001b[0m\u001b[0m\n\u001b[0m\u001b[1;32m     66\u001b[0m         \u001b[0;32mexcept\u001b[0m \u001b[0mException\u001b[0m \u001b[0;32mas\u001b[0m \u001b[0me\u001b[0m\u001b[0;34m:\u001b[0m\u001b[0;34m\u001b[0m\u001b[0;34m\u001b[0m\u001b[0m\n\u001b[1;32m     67\u001b[0m             \u001b[0mfiltered_tb\u001b[0m \u001b[0;34m=\u001b[0m \u001b[0m_process_traceback_frames\u001b[0m\u001b[0;34m(\u001b[0m\u001b[0me\u001b[0m\u001b[0;34m.\u001b[0m\u001b[0m__traceback__\u001b[0m\u001b[0;34m)\u001b[0m\u001b[0;34m\u001b[0m\u001b[0;34m\u001b[0m\u001b[0m\n",
            "\u001b[0;32m/usr/local/lib/python3.10/dist-packages/keras/engine/training.py\u001b[0m in \u001b[0;36mfit\u001b[0;34m(self, x, y, batch_size, epochs, verbose, callbacks, validation_split, validation_data, shuffle, class_weight, sample_weight, initial_epoch, steps_per_epoch, validation_steps, validation_batch_size, validation_freq, max_queue_size, workers, use_multiprocessing)\u001b[0m\n\u001b[1;32m   1683\u001b[0m                         ):\n\u001b[1;32m   1684\u001b[0m                             \u001b[0mcallbacks\u001b[0m\u001b[0;34m.\u001b[0m\u001b[0mon_train_batch_begin\u001b[0m\u001b[0;34m(\u001b[0m\u001b[0mstep\u001b[0m\u001b[0;34m)\u001b[0m\u001b[0;34m\u001b[0m\u001b[0;34m\u001b[0m\u001b[0m\n\u001b[0;32m-> 1685\u001b[0;31m                             \u001b[0mtmp_logs\u001b[0m \u001b[0;34m=\u001b[0m \u001b[0mself\u001b[0m\u001b[0;34m.\u001b[0m\u001b[0mtrain_function\u001b[0m\u001b[0;34m(\u001b[0m\u001b[0miterator\u001b[0m\u001b[0;34m)\u001b[0m\u001b[0;34m\u001b[0m\u001b[0;34m\u001b[0m\u001b[0m\n\u001b[0m\u001b[1;32m   1686\u001b[0m                             \u001b[0;32mif\u001b[0m \u001b[0mdata_handler\u001b[0m\u001b[0;34m.\u001b[0m\u001b[0mshould_sync\u001b[0m\u001b[0;34m:\u001b[0m\u001b[0;34m\u001b[0m\u001b[0;34m\u001b[0m\u001b[0m\n\u001b[1;32m   1687\u001b[0m                                 \u001b[0mcontext\u001b[0m\u001b[0;34m.\u001b[0m\u001b[0masync_wait\u001b[0m\u001b[0;34m(\u001b[0m\u001b[0;34m)\u001b[0m\u001b[0;34m\u001b[0m\u001b[0;34m\u001b[0m\u001b[0m\n",
            "\u001b[0;32m/usr/local/lib/python3.10/dist-packages/tensorflow/python/util/traceback_utils.py\u001b[0m in \u001b[0;36merror_handler\u001b[0;34m(*args, **kwargs)\u001b[0m\n\u001b[1;32m    148\u001b[0m     \u001b[0mfiltered_tb\u001b[0m \u001b[0;34m=\u001b[0m \u001b[0;32mNone\u001b[0m\u001b[0;34m\u001b[0m\u001b[0;34m\u001b[0m\u001b[0m\n\u001b[1;32m    149\u001b[0m     \u001b[0;32mtry\u001b[0m\u001b[0;34m:\u001b[0m\u001b[0;34m\u001b[0m\u001b[0;34m\u001b[0m\u001b[0m\n\u001b[0;32m--> 150\u001b[0;31m       \u001b[0;32mreturn\u001b[0m \u001b[0mfn\u001b[0m\u001b[0;34m(\u001b[0m\u001b[0;34m*\u001b[0m\u001b[0margs\u001b[0m\u001b[0;34m,\u001b[0m \u001b[0;34m**\u001b[0m\u001b[0mkwargs\u001b[0m\u001b[0;34m)\u001b[0m\u001b[0;34m\u001b[0m\u001b[0;34m\u001b[0m\u001b[0m\n\u001b[0m\u001b[1;32m    151\u001b[0m     \u001b[0;32mexcept\u001b[0m \u001b[0mException\u001b[0m \u001b[0;32mas\u001b[0m \u001b[0me\u001b[0m\u001b[0;34m:\u001b[0m\u001b[0;34m\u001b[0m\u001b[0;34m\u001b[0m\u001b[0m\n\u001b[1;32m    152\u001b[0m       \u001b[0mfiltered_tb\u001b[0m \u001b[0;34m=\u001b[0m \u001b[0m_process_traceback_frames\u001b[0m\u001b[0;34m(\u001b[0m\u001b[0me\u001b[0m\u001b[0;34m.\u001b[0m\u001b[0m__traceback__\u001b[0m\u001b[0;34m)\u001b[0m\u001b[0;34m\u001b[0m\u001b[0;34m\u001b[0m\u001b[0m\n",
            "\u001b[0;32m/usr/local/lib/python3.10/dist-packages/tensorflow/python/eager/polymorphic_function/polymorphic_function.py\u001b[0m in \u001b[0;36m__call__\u001b[0;34m(self, *args, **kwds)\u001b[0m\n\u001b[1;32m    892\u001b[0m \u001b[0;34m\u001b[0m\u001b[0m\n\u001b[1;32m    893\u001b[0m       \u001b[0;32mwith\u001b[0m \u001b[0mOptionalXlaContext\u001b[0m\u001b[0;34m(\u001b[0m\u001b[0mself\u001b[0m\u001b[0;34m.\u001b[0m\u001b[0m_jit_compile\u001b[0m\u001b[0;34m)\u001b[0m\u001b[0;34m:\u001b[0m\u001b[0;34m\u001b[0m\u001b[0;34m\u001b[0m\u001b[0m\n\u001b[0;32m--> 894\u001b[0;31m         \u001b[0mresult\u001b[0m \u001b[0;34m=\u001b[0m \u001b[0mself\u001b[0m\u001b[0;34m.\u001b[0m\u001b[0m_call\u001b[0m\u001b[0;34m(\u001b[0m\u001b[0;34m*\u001b[0m\u001b[0margs\u001b[0m\u001b[0;34m,\u001b[0m \u001b[0;34m**\u001b[0m\u001b[0mkwds\u001b[0m\u001b[0;34m)\u001b[0m\u001b[0;34m\u001b[0m\u001b[0;34m\u001b[0m\u001b[0m\n\u001b[0m\u001b[1;32m    895\u001b[0m \u001b[0;34m\u001b[0m\u001b[0m\n\u001b[1;32m    896\u001b[0m       \u001b[0mnew_tracing_count\u001b[0m \u001b[0;34m=\u001b[0m \u001b[0mself\u001b[0m\u001b[0;34m.\u001b[0m\u001b[0mexperimental_get_tracing_count\u001b[0m\u001b[0;34m(\u001b[0m\u001b[0;34m)\u001b[0m\u001b[0;34m\u001b[0m\u001b[0;34m\u001b[0m\u001b[0m\n",
            "\u001b[0;32m/usr/local/lib/python3.10/dist-packages/tensorflow/python/eager/polymorphic_function/polymorphic_function.py\u001b[0m in \u001b[0;36m_call\u001b[0;34m(self, *args, **kwds)\u001b[0m\n\u001b[1;32m    957\u001b[0m         \u001b[0;31m# Lifting succeeded, so variables are initialized and we can run the\u001b[0m\u001b[0;34m\u001b[0m\u001b[0;34m\u001b[0m\u001b[0m\n\u001b[1;32m    958\u001b[0m         \u001b[0;31m# no_variable_creation function.\u001b[0m\u001b[0;34m\u001b[0m\u001b[0;34m\u001b[0m\u001b[0m\n\u001b[0;32m--> 959\u001b[0;31m         \u001b[0;32mreturn\u001b[0m \u001b[0mself\u001b[0m\u001b[0;34m.\u001b[0m\u001b[0m_no_variable_creation_fn\u001b[0m\u001b[0;34m(\u001b[0m\u001b[0;34m*\u001b[0m\u001b[0margs\u001b[0m\u001b[0;34m,\u001b[0m \u001b[0;34m**\u001b[0m\u001b[0mkwds\u001b[0m\u001b[0;34m)\u001b[0m\u001b[0;34m\u001b[0m\u001b[0;34m\u001b[0m\u001b[0m\n\u001b[0m\u001b[1;32m    960\u001b[0m     \u001b[0;32melse\u001b[0m\u001b[0;34m:\u001b[0m\u001b[0;34m\u001b[0m\u001b[0;34m\u001b[0m\u001b[0m\n\u001b[1;32m    961\u001b[0m       _, _, filtered_flat_args = (\n",
            "\u001b[0;32m/usr/local/lib/python3.10/dist-packages/tensorflow/python/eager/polymorphic_function/tracing_compiler.py\u001b[0m in \u001b[0;36m__call__\u001b[0;34m(self, *args, **kwargs)\u001b[0m\n\u001b[1;32m    141\u001b[0m       (concrete_function,\n\u001b[1;32m    142\u001b[0m        filtered_flat_args) = self._maybe_define_function(args, kwargs)\n\u001b[0;32m--> 143\u001b[0;31m     return concrete_function._call_flat(\n\u001b[0m\u001b[1;32m    144\u001b[0m         filtered_flat_args, captured_inputs=concrete_function.captured_inputs)  # pylint: disable=protected-access\n\u001b[1;32m    145\u001b[0m \u001b[0;34m\u001b[0m\u001b[0m\n",
            "\u001b[0;32m/usr/local/lib/python3.10/dist-packages/tensorflow/python/eager/polymorphic_function/monomorphic_function.py\u001b[0m in \u001b[0;36m_call_flat\u001b[0;34m(self, args, captured_inputs, cancellation_manager)\u001b[0m\n\u001b[1;32m   1755\u001b[0m         and executing_eagerly):\n\u001b[1;32m   1756\u001b[0m       \u001b[0;31m# No tape is watching; skip to running the function.\u001b[0m\u001b[0;34m\u001b[0m\u001b[0;34m\u001b[0m\u001b[0m\n\u001b[0;32m-> 1757\u001b[0;31m       return self._build_call_outputs(self._inference_function.call(\n\u001b[0m\u001b[1;32m   1758\u001b[0m           ctx, args, cancellation_manager=cancellation_manager))\n\u001b[1;32m   1759\u001b[0m     forward_backward = self._select_forward_and_backward_functions(\n",
            "\u001b[0;32m/usr/local/lib/python3.10/dist-packages/tensorflow/python/eager/polymorphic_function/monomorphic_function.py\u001b[0m in \u001b[0;36mcall\u001b[0;34m(self, ctx, args, cancellation_manager)\u001b[0m\n\u001b[1;32m    379\u001b[0m       \u001b[0;32mwith\u001b[0m \u001b[0m_InterpolateFunctionError\u001b[0m\u001b[0;34m(\u001b[0m\u001b[0mself\u001b[0m\u001b[0;34m)\u001b[0m\u001b[0;34m:\u001b[0m\u001b[0;34m\u001b[0m\u001b[0;34m\u001b[0m\u001b[0m\n\u001b[1;32m    380\u001b[0m         \u001b[0;32mif\u001b[0m \u001b[0mcancellation_manager\u001b[0m \u001b[0;32mis\u001b[0m \u001b[0;32mNone\u001b[0m\u001b[0;34m:\u001b[0m\u001b[0;34m\u001b[0m\u001b[0;34m\u001b[0m\u001b[0m\n\u001b[0;32m--> 381\u001b[0;31m           outputs = execute.execute(\n\u001b[0m\u001b[1;32m    382\u001b[0m               \u001b[0mstr\u001b[0m\u001b[0;34m(\u001b[0m\u001b[0mself\u001b[0m\u001b[0;34m.\u001b[0m\u001b[0msignature\u001b[0m\u001b[0;34m.\u001b[0m\u001b[0mname\u001b[0m\u001b[0;34m)\u001b[0m\u001b[0;34m,\u001b[0m\u001b[0;34m\u001b[0m\u001b[0;34m\u001b[0m\u001b[0m\n\u001b[1;32m    383\u001b[0m               \u001b[0mnum_outputs\u001b[0m\u001b[0;34m=\u001b[0m\u001b[0mself\u001b[0m\u001b[0;34m.\u001b[0m\u001b[0m_num_outputs\u001b[0m\u001b[0;34m,\u001b[0m\u001b[0;34m\u001b[0m\u001b[0;34m\u001b[0m\u001b[0m\n",
            "\u001b[0;32m/usr/local/lib/python3.10/dist-packages/tensorflow/python/eager/execute.py\u001b[0m in \u001b[0;36mquick_execute\u001b[0;34m(op_name, num_outputs, inputs, attrs, ctx, name)\u001b[0m\n\u001b[1;32m     50\u001b[0m   \u001b[0;32mtry\u001b[0m\u001b[0;34m:\u001b[0m\u001b[0;34m\u001b[0m\u001b[0;34m\u001b[0m\u001b[0m\n\u001b[1;32m     51\u001b[0m     \u001b[0mctx\u001b[0m\u001b[0;34m.\u001b[0m\u001b[0mensure_initialized\u001b[0m\u001b[0;34m(\u001b[0m\u001b[0;34m)\u001b[0m\u001b[0;34m\u001b[0m\u001b[0;34m\u001b[0m\u001b[0m\n\u001b[0;32m---> 52\u001b[0;31m     tensors = pywrap_tfe.TFE_Py_Execute(ctx._handle, device_name, op_name,\n\u001b[0m\u001b[1;32m     53\u001b[0m                                         inputs, attrs, num_outputs)\n\u001b[1;32m     54\u001b[0m   \u001b[0;32mexcept\u001b[0m \u001b[0mcore\u001b[0m\u001b[0;34m.\u001b[0m\u001b[0m_NotOkStatusException\u001b[0m \u001b[0;32mas\u001b[0m \u001b[0me\u001b[0m\u001b[0;34m:\u001b[0m\u001b[0;34m\u001b[0m\u001b[0;34m\u001b[0m\u001b[0m\n",
            "\u001b[0;31mKeyboardInterrupt\u001b[0m: "
          ]
        }
      ]
    },
    {
      "cell_type": "markdown",
      "source": [
        "# Image generation"
      ],
      "metadata": {
        "collapsed": false,
        "id": "1TZSRE2moKuY"
      }
    },
    {
      "cell_type": "code",
      "source": [
        "images = generate(agent, 1, 0.01, 1, 1, 0, 10, 4)"
      ],
      "metadata": {
        "id": "aT_2YcuyLYWN"
      },
      "execution_count": null,
      "outputs": []
    },
    {
      "cell_type": "code",
      "source": [
        "import matplotlib.pyplot as plt\n",
        "import numpy as np\n",
        "\n",
        "def disp(image):\n",
        "    image = (image + 1)* 127.5\n",
        "\n",
        "    plt.imshow(image.astype(np.uint8))\n",
        "    plt.axis('off')\n",
        "    plt.show()"
      ],
      "metadata": {
        "id": "M2GlqzEzMEod"
      },
      "execution_count": 34,
      "outputs": []
    },
    {
      "cell_type": "code",
      "source": [
        "disp(samples.numpy()[5])"
      ],
      "metadata": {
        "id": "BcdjXCeTlHb7",
        "outputId": "8ac077bf-a9ae-456e-eb08-1671dd5f0d8d",
        "colab": {
          "base_uri": "https://localhost:8080/",
          "height": 406
        }
      },
      "execution_count": 40,
      "outputs": [
        {
          "output_type": "display_data",
          "data": {
            "text/plain": [
              "<Figure size 640x480 with 1 Axes>"
            ],
            "image/png": "[encoded data removed]"
          },
          "metadata": {}
        }
      ]
    },
    {
      "cell_type": "code",
      "source": [
        "disp(mem_x[0])"
      ],
      "metadata": {
        "id": "9gFH49EUlBgM",
        "outputId": "65b2c627-1fc9-4641-c207-8ed75c9509a6",
        "colab": {
          "base_uri": "https://localhost:8080/",
          "height": 406
        }
      },
      "execution_count": 35,
      "outputs": [
        {
          "output_type": "display_data",
          "data": {
            "text/plain": [
              "<Figure size 640x480 with 1 Axes>"
            ],
            "image/png": "[encoded data removed]"
          },
          "metadata": {}
        }
      ]
    },
    {
      "cell_type": "code",
      "source": [
        "disp(images[0][1])"
      ],
      "metadata": {
        "id": "yNc1tDejMGoB",
        "outputId": "87c56ccf-d5eb-4b5e-a9c2-645da285e5e0",
        "colab": {
          "base_uri": "https://localhost:8080/",
          "height": 406
        }
      },
      "execution_count": null,
      "outputs": [
        {
          "output_type": "display_data",
          "data": {
            "text/plain": [
              "<Figure size 640x480 with 1 Axes>"
            ],
            "image/png": "[encoded data removed]"
          },
          "metadata": {}
        }
      ]
    },
    {
      "cell_type": "markdown",
      "source": [
        "# Evaluation, testing"
      ],
      "metadata": {
        "collapsed": false,
        "id": "UiiKIl618kVn"
      }
    },
    {
      "cell_type": "code",
      "execution_count": null,
      "outputs": [],
      "source": [
        "def evaluate(loader, first_n_tasks=None):\n",
        "    for task, tr_loader in enumerate(loader):\n",
        "        print(\"Task: \", task)\n",
        "        data, target = tr_loader.batch(124)\n",
        "        logits = agent.classifier_model(data)\n",
        "        pred = np.argmax(logits, axis=1)\n",
        "        report = agent.eval(np.argmax(target, axis=1), pred)\n",
        "        loss = tf.keras.losses.categorical_crossentropy(target, logits)\n",
        "        print(report)\n",
        "        print(\"Mean loss: \", np.mean(loss))"
      ],
      "metadata": {
        "id": "r_K9lbNh8kVn"
      }
    },
    {
      "cell_type": "code",
      "execution_count": null,
      "metadata": {
        "id": "4I2ZLTm-JnX8"
      },
      "outputs": [],
      "source": [
        "print(\"Evaluation on training set:\")\n",
        "evaluate(train_loader)\n",
        "print(\"Evaluation on test set:\")\n",
        "evaluate(test_loader)"
      ]
    },
    {
      "cell_type": "markdown",
      "source": [
        "# Utils for development"
      ],
      "metadata": {
        "collapsed": false,
        "id": "vOxdRLeJ8kVn"
      }
    },
    {
      "cell_type": "code",
      "execution_count": null,
      "outputs": [
        {
          "output_type": "execute_result",
          "data": {
            "text/plain": [
              "59341"
            ]
          },
          "metadata": {},
          "execution_count": 28
        }
      ],
      "source": [
        "# Garbage collection\n",
        "gc.collect()"
      ],
      "metadata": {
        "id": "NCdIwGMq8kVn",
        "outputId": "cffd2280-970f-4435-da6b-cb20a1e40a34",
        "colab": {
          "base_uri": "https://localhost:8080/"
        }
      }
    }
  ],
  "metadata": {
    "colab": {
      "provenance": [],
      "machine_shape": "hm",
      "gpuType": "T4",
      "include_colab_link": true
    },
    "kernelspec": {
      "display_name": "Python 3 (ipykernel)",
      "language": "python",
      "name": "python3"
    },
    "language_info": {
      "codemirror_mode": {
        "name": "ipython",
        "version": 3
      },
      "file_extension": ".py",
      "mimetype": "text/x-python",
      "name": "python",
      "nbconvert_exporter": "python",
      "pygments_lexer": "ipython3",
      "version": "3.9.13"
    },
    "accelerator": "GPU",
    "gpuClass": "standard"
  },
  "nbformat": 4,
  "nbformat_minor": 0
}