{
  "cells": [
    {
      "cell_type": "markdown",
      "metadata": {
        "id": "view-in-github",
        "colab_type": "text"
      },
      "source": [
        "<a href=\"https://colab.research.google.com/github/lacykaltgr/continual-learning-ait/blob/main/main.ipynb\" target=\"_parent\"><img src=\"https://colab.research.google.com/assets/colab-badge.svg\" alt=\"Open In Colab\"/></a>"
      ]
    },
    {
      "cell_type": "code",
      "execution_count": 1,
      "metadata": {
        "colab": {
          "base_uri": "https://localhost:8080/"
        },
        "id": "pveLpmUzEF5A",
        "outputId": "85de8d26-af44-429a-bc46-7b1fde345999"
      },
      "outputs": [
        {
          "output_type": "stream",
          "name": "stdout",
          "text": [
            "--2023-05-11 21:54:55--  https://github.com/lacykaltgr/continual-learning-ait/archive/refs/heads/main.zip\n",
            "Resolving github.com (github.com)... 140.82.114.4\n",
            "Connecting to github.com (github.com)|140.82.114.4|:443... connected.\n",
            "HTTP request sent, awaiting response... 302 Found\n",
            "Location: https://codeload.github.com/lacykaltgr/continual-learning-ait/zip/refs/heads/main [following]\n",
            "--2023-05-11 21:54:55--  https://codeload.github.com/lacykaltgr/continual-learning-ait/zip/refs/heads/main\n",
            "Resolving codeload.github.com (codeload.github.com)... 140.82.113.9\n",
            "Connecting to codeload.github.com (codeload.github.com)|140.82.113.9|:443... connected.\n",
            "HTTP request sent, awaiting response... 200 OK\n",
            "Length: unspecified [application/zip]\n",
            "Saving to: ‘main.zip’\n",
            "\n",
            "main.zip                [ <=>                ]   1.58M  9.28MB/s    in 0.2s    \n",
            "\n",
            "2023-05-11 21:54:55 (9.28 MB/s) - ‘main.zip’ saved [1658648]\n",
            "\n",
            "Archive:  main.zip\n",
            "814dc034094568059235ea1290b566c0d2b588c4\n",
            "   creating: continual-learning-ait-main/\n",
            "  inflating: continual-learning-ait-main/README.md  \n",
            "  inflating: continual-learning-ait-main/classifier.py  \n",
            "  inflating: continual-learning-ait-main/constants.py  \n",
            "  inflating: continual-learning-ait-main/data_preparation.py  \n",
            "  inflating: continual-learning-ait-main/generator.py  \n",
            "  inflating: continual-learning-ait-main/img.png  \n",
            "  inflating: continual-learning-ait-main/main.ipynb  \n",
            "   creating: continual-learning-ait-main/models/\n",
            "  inflating: continual-learning-ait-main/models/classifier.h5  \n",
            "  inflating: continual-learning-ait-main/models/encoder.h5  \n",
            "   creating: continual-learning-ait-main/notebooks/\n",
            "  inflating: continual-learning-ait-main/notebooks/classifier.ipynb  \n",
            "  inflating: continual-learning-ait-main/notebooks/data_preparation.ipynb  \n",
            "  inflating: continual-learning-ait-main/notebooks/generator.ipynb  \n",
            "  inflating: continual-learning-ait-main/utils.py  \n"
          ]
        }
      ],
      "source": [
        "'''Download the files '''\n",
        "'''Only for colab'''\n",
        "\n",
        "!wget https://github.com/lacykaltgr/continual-learning-ait/archive/refs/heads/main.zip\n",
        "!unzip main.zip\n",
        "!find continual-learning-ait-main -type f ! -name \"main.ipynb\" -exec cp {} . \\;"
      ]
    },
    {
      "cell_type": "code",
      "execution_count": 2,
      "metadata": {
        "id": "vjfVuEmXECoL"
      },
      "outputs": [],
      "source": [
        "import numpy as np\n",
        "import tensorflow as tf\n",
        "import keras\n",
        "\n",
        "from sklearn.metrics import accuracy_score\n",
        "from sklearn.metrics import classification_report\n",
        "#from keras.metrics import Accuracy\n",
        "\n",
        "import classifier\n",
        "from generator import Generator\n",
        "from classifier import Encoder, Classifier\n",
        "import utils\n",
        "from data_preparation import load_dataset, CLDataLoader\n",
        "\n",
        "import gc\n",
        "import os\n",
        "os.environ['TF_CPP_MIN_LOG_LEVEL'] = '2'\n",
        "\n",
        "import importlib"
      ]
    },
    {
      "cell_type": "markdown",
      "source": [
        "# Load the dataset"
      ],
      "metadata": {
        "collapsed": false,
        "id": "zzYWiWfZ8kVi"
      }
    },
    {
      "cell_type": "code",
      "execution_count": 3,
      "metadata": {
        "id": "TaH3bi-5crqD",
        "outputId": "46285820-ee2f-4f04-91bb-f609ad314d5c",
        "colab": {
          "base_uri": "https://localhost:8080/"
        }
      },
      "outputs": [
        {
          "output_type": "stream",
          "name": "stdout",
          "text": [
            "Downloading data from https://www.cs.toronto.edu/~kriz/cifar-10-python.tar.gz\n",
            "170498071/170498071 [==============================] - 3s 0us/step\n"
          ]
        }
      ],
      "source": [
        "dpt_train, dpt_test = load_dataset('cifar-10', n_classes_first_task=4, n_classes_other_task=3)"
      ]
    },
    {
      "cell_type": "code",
      "execution_count": 4,
      "metadata": {
        "id": "yIESUurDeOCR"
      },
      "outputs": [],
      "source": [
        "batch_size = 256\n",
        "train_loader = CLDataLoader(dpt_train, batch_size , train=True)\n",
        "test_loader = CLDataLoader(dpt_train, batch_size, train=False)"
      ]
    },
    {
      "cell_type": "markdown",
      "source": [
        "# Define parameters and agent"
      ],
      "metadata": {
        "collapsed": false,
        "id": "3Jl-cBYs8kVj"
      }
    },
    {
      "cell_type": "code",
      "execution_count": 5,
      "metadata": {
        "id": "GY9MAk581iYQ"
      },
      "outputs": [],
      "source": [
        "params = {\n",
        "    #general\n",
        "    \"n_runs\": 1,\n",
        "    \"n_tasks\": 3,\n",
        "    \"n_epochs\": 2,\n",
        "    \"n_classes\": 10,\n",
        "    \"input_shape\": (32, 32, 3),\n",
        "    \"embedding_shape\": (6, 6, 8),\n",
        "    \"samples_per_task\": 10000,\n",
        "    \"batch_size\": batch_size,\n",
        "    \"eval_batch_size\": 1,\n",
        "    \"print_every\": 1,\n",
        "\n",
        "    #classifier\n",
        "    \"cls_iters\": 1,\n",
        "    \"cls_lr\": 1e-2,\n",
        "\n",
        "    #generator\n",
        "    \"num_steps\": 3,\n",
        "    \"gen_lr\": 2e-4,\n",
        "    \"gen_iters\": 1,\n",
        "    \"input_latent_strength\": 0.9,\n",
        "    \"temperature\": 0.9,\n",
        "\n",
        "    #mir\n",
        "    \"mir_iters\": 3,\n",
        "    \"n_mem\": 2,\n",
        "    \"reuse_samples\": True,\n",
        "    \"cls_mir_gen\": 1,\n",
        "    \"gen_mir_gen\": 1,\n",
        "    \"mem_coeff\": 0.12,\n",
        "    \"z_size\": 10,\n",
        "    \"gen_kl_coeff\": 0.5,\n",
        "    \"gen_rec_coeff\": 0.5,\n",
        "    \"gen_ent_coeff\": 0.5,\n",
        "    \"gen_div_coeff\": 0.5,\n",
        "    \"gen_shell_coeff\": 0.5,\n",
        "    \"cls_xent_coeff\": 0.5,\n",
        "    \"cls_ent_coeff\": 0.5,\n",
        "    \"cls_div_coeff\": 0.5,\n",
        "    \"cls_shell_coeff\": 0.5,\n",
        "}"
      ]
    },
    {
      "cell_type": "code",
      "execution_count": 33,
      "metadata": {
        "id": "OmitFSMM2WJn"
      },
      "outputs": [],
      "source": [
        "'''Agent to handle models, parameters and states'''\n",
        "\n",
        "class Agent:\n",
        "  def __init__(self, hparams):\n",
        "    self.params = hparams\n",
        "    self.state = dict()\n",
        "\n",
        "    self.classifier = None\n",
        "    self.generator = None\n",
        "    self.encoder = None\n",
        "    self.encoder_classifier = None\n",
        "\n",
        "    self.eval = accuracy_score\n",
        "\n",
        "\n",
        "  def set_models(\n",
        "          self,\n",
        "          _generator=None,\n",
        "          _classifier=None,\n",
        "          _encoder  = None,\n",
        "    ):\n",
        "    cls = _classifier #classifier\n",
        "    gen = _generator  #generator\n",
        "    enc = _encoder #encoder\n",
        "\n",
        "    self.optimizer = tf.keras.optimizers.legacy.Adam(learning_rate=params[\"cls_lr\"])\n",
        "    self.optimizer_gen = tf.keras.optimizers.legacy.Adam(learning_rate=params[\"gen_lr\"])\n",
        "\n",
        "    #encoder pipeline\n",
        "    data_input = keras.Input(shape=self.params[\"input_shape\"], name=\"image\")\n",
        "    enc_output = enc(data_input)\n",
        "    self.encoder = keras.Model(inputs=data_input, outputs=enc_output)\n",
        "\n",
        "    # classifier pipeline\n",
        "    latent_input = keras.Input(shape=self.params[\"embedding_shape\"], name=\"latent\")\n",
        "    cls_output = cls(latent_input)\n",
        "    self.classifier = keras.Model(inputs=latent_input, outputs=cls_output)\n",
        "    self.classifier.compile(optimizer=self.optimizer, loss=\"categorical_crossentropy\", metrics=[\"accuracy\"])\n",
        "\n",
        "    # encoder - classifier pipeline\n",
        "    data_input = keras.Input(shape=self.params[\"input_shape\"], name=\"image\")\n",
        "    enc_output = enc(data_input)\n",
        "    enc_cls_output = cls(enc_output)\n",
        "    self.encoder_classifier = keras.Model(inputs= data_input, outputs = enc_cls_output)\n",
        "    self.encoder_classifier.compile(optimizer=self.optimizer, loss=\"categorical_crossentropy\", metrics=[\"accuracy\"])\n",
        "    \n",
        "    # generator pipeline\n",
        "    self.generator = gen\n",
        "    #latent_input = keras.Input(shape=self.params[\"embedding_shape\"], name=\"latent\")\n",
        "    #gen_output = gen(latent_input)\n",
        "    #self.generator = keras.Model(inputs = latent_input, outputs = gen_output)"
      ]
    },
    {
      "cell_type": "markdown",
      "source": [
        "# Functions for training"
      ],
      "metadata": {
        "collapsed": false,
        "id": "OPqiS9VV8kVk"
      }
    },
    {
      "cell_type": "code",
      "execution_count": 39,
      "outputs": [],
      "source": [
        "'''Generate samples and train the diffusion model at the same time'''\n",
        "\n",
        "#plusz lehetne itt még kritérium hogy ne menjen olyan messze az alaptól --- similarity loss\n",
        "#plusz még lehetne talán egy discriminator is, hogy valós reprezentációkat tanuljon meg\n",
        "\n",
        "\n",
        "def generate(agent, cls=None, input_latent=None, train=True, coeff=1.0):\n",
        "\n",
        "    if cls is None:\n",
        "      cls = agent.classifier\n",
        "\n",
        "    batch_size = params['batch_size'] if train else 64\n",
        "    latent, alphas, alphas_prev, timesteps = agent.generator.initialize(params, input_latent, batch_size)\n",
        "\n",
        "\n",
        "    for index, timestep in reversed(list(enumerate(timesteps))):\n",
        "        if train:\n",
        "            with tf.GradientTape() as tape:\n",
        "                e_t = agent.generator.get_model_output(\n",
        "                    latent,\n",
        "                    timestep,\n",
        "                    batch_size,\n",
        "                )\n",
        "                a_t, a_prev = alphas[index], alphas_prev[index]\n",
        "                latent = agent.generator.get_x_prev(latent, e_t,  a_t, a_prev, params[\"temperature\"])\n",
        "\n",
        "                pred = cls(latent)\n",
        "                pred_true = utils.get_one_hot_predictions(pred) #ezt nem fixen kell mecsinálni\n",
        "                confidence_loss = coeff*tf.reduce_mean(tf.keras.losses.categorical_crossentropy(pred_true, pred))\n",
        "                #print(confidence_loss)\n",
        "                similarity_loss = 0.1 * tf.reduce_mean(tf.square(latent - e_t))\n",
        "                #print(similarity_loss)\n",
        "                loss = confidence_loss + similarity_loss\n",
        "\n",
        "            grads = tape.gradient(loss, agent.generator.trainable_variables)\n",
        "            agent.optimizer_gen.apply_gradients(zip(grads, agent.generator.trainable_variables))\n",
        "        else:\n",
        "            e_t = agent.generator.get_model_output(\n",
        "                latent,\n",
        "                timestep,\n",
        "                batch_size,\n",
        "            )\n",
        "            a_t, a_prev = alphas[index], alphas_prev[index]\n",
        "            latent = agent.generator.get_x_prev(latent, e_t,  a_t, a_prev, params[\"temperature\"])\n",
        "\n",
        "    return latent\n"
      ],
      "metadata": {
        "id": "2BgWNzhg8kVk"
      }
    },
    {
      "cell_type": "code",
      "execution_count": 8,
      "outputs": [],
      "source": [
        "'''Retrive maximally interferred latent vector for classifier'''\n",
        "\n",
        "def retrieve_gen_for_cls(agent):\n",
        "\n",
        "    print(\"Retrieving latent vector for classifier...\")\n",
        "\n",
        "    latent = agent.encoder(agent.state[\"data\"])\n",
        "    virtual_cls = Classifier()\n",
        "    virtual_cls = utils.get_next_step_cls(\n",
        "        agent.cls,\n",
        "        virtual_cls,\n",
        "        latent,\n",
        "        agent.state[\"target\"]\n",
        "    )\n",
        "\n",
        "    #mean_latent = tf.cast(tf.reduce_mean(latent, axis=0), tf.float64)\n",
        "    final_latent = None\n",
        "\n",
        "    for i in range(agent.params[\"n_mem\"]):\n",
        "\n",
        "        generated = generate(agent, input_latent=latent, train=False, coeff=0.1)\n",
        "\n",
        "        for j in range(params[\"mir_iters\"]):\n",
        "            with tf.GradientTape(persistent=True) as tape:\n",
        "\n",
        "                tape.watch(generated)\n",
        "\n",
        "                y_pre = agent.cls(generated)\n",
        "                y_virtual = virtual_cls(generated)\n",
        "\n",
        "                # maximise the interference:\n",
        "                XENT = tf.constant(0.)\n",
        "                if params[\"cls_xent_coeff\"] > 0.:\n",
        "                    XENT = tf.keras.losses.categorical_crossentropy(y_virtual, y_pre)\n",
        "\n",
        "                # the predictions from the two models should be confident\n",
        "                ENT = tf.constant(0.)\n",
        "                if params[\"cls_ent_coeff\"] > 0.:\n",
        "                    ENT = tf.keras.losses.categorical_crossentropy(y_pre, y_pre)\n",
        "\n",
        "                # the new-found samples should be different from each others\n",
        "                DIV = tf.constant(0.)\n",
        "                if params[\"cls_div_coeff\"] > 0.:\n",
        "                    for found_z_i in range(i):\n",
        "                        DIV += tf.keras.losses.MSE(\n",
        "                            generated,\n",
        "                            final_latent[found_z_i * generated.shape[0]:found_z_i * generated.shape[0] + generated.shape[0]]\n",
        "                        ) / i\n",
        "\n",
        "                # (NEW) stay on gaussian shell loss:\n",
        "                SHELL = tf.constant(0.)\n",
        "                if params[\"cls_shell_coeff\"] > 0.:\n",
        "                    SHELL = tf.keras.losses.MSE(\n",
        "                        tf.norm(generated, axis=1),\n",
        "                        tf.ones_like(tf.norm(generated, axis=1))*np.sqrt(params[\"z_size\"])\n",
        "                    )\n",
        "\n",
        "                XENT, ENT, DIV, SHELL = \\\n",
        "                    tf.reduce_mean(XENT), \\\n",
        "                        tf.reduce_mean(ENT), \\\n",
        "                        tf.reduce_mean(DIV), \\\n",
        "                        tf.reduce_mean(SHELL)\n",
        "\n",
        "                gain = params[\"cls_xent_coeff\"] * XENT + \\\n",
        "                       -params[\"cls_ent_coeff\"] * ENT + \\\n",
        "                       params[\"cls_div_coeff\"] * DIV + \\\n",
        "                       -params[\"cls_shell_coeff\"] * SHELL\n",
        "\n",
        "            gen_grad = tape.gradient(gain, generated)\n",
        "            if gen_grad is not None:\n",
        "                generated = (generated + 1 * gen_grad)\n",
        "\n",
        "        if final_latent is None:\n",
        "            final_latent = generated.numpy().copy()\n",
        "        else:\n",
        "            final_latent = np.concatenate([final_latent, generated.numpy().copy()])\n",
        "\n",
        "    tf.stop_gradient(final_latent)\n",
        "\n",
        "    mir_worked = not np.isnan(final_latent).any()\n",
        "    mem_x = final_latent if mir_worked else generate(agent, train=False)\n",
        "    mem_y = agent.cls(mem_x).numpy()\n",
        "\n",
        "    return mem_x, mem_y, mir_worked"
      ],
      "metadata": {
        "id": "OlENSPig8kVl"
      }
    },
    {
      "cell_type": "code",
      "execution_count": 9,
      "outputs": [],
      "source": [
        "'''Retrive maximally interferred latent vector for generator'''\n",
        "\n",
        "\n",
        "def retrieve_gen_for_gen(agent):\n",
        "\n",
        "    print(\"Retrieving latent vector for generator...\")\n",
        "\n",
        "    latent = agent.gen.encoder(agent.state[\"data\"])\n",
        "    #mean_latent = tf.cast(tf.reduce_mean(latent, axis=0), tf.float64)\n",
        "    final_latent = None\n",
        "\n",
        "    for i in range(params[\"n_mem\"]):\n",
        "\n",
        "        generated = generate(agent, input_latent=latent, train=False, coeff=0.1)\n",
        "\n",
        "        for j in range(params[\"mir_iters\"]):\n",
        "\n",
        "            with tf.GradientTape(persistent=True) as tape:\n",
        "                tape.watch(generated)\n",
        "\n",
        "                # the predictions from the two models should be confident\n",
        "                ENT = tf.constant(0.)\n",
        "                if params[\"gen_ent_coeff\"]>0.:\n",
        "                    y_pre = agent.cls(generated)\n",
        "                    ENT = tf.reduce_mean(tf.keras.losses.categorical_crossentropy(y_pre, y_pre))\n",
        "\n",
        "                # the new-found samples should be different from each others\n",
        "                DIV = tf.constant(0.)\n",
        "                if params[\"gen_div_coeff\"]>0.:\n",
        "                    for found_z_i in range(i):\n",
        "                        DIV += tf.reduce_mean(tf.math.squared_difference(\n",
        "                            generated,\n",
        "                            final_latent[found_z_i * generated.shape[0]:found_z_i * generated.shape[0] + generated.shape[0]])\n",
        "                        ) / i\n",
        "\n",
        "                # (NEW) stay on gaussian shell loss:\n",
        "                SHELL = tf.constant(0.)\n",
        "                if params[\"gen_shell_coeff\"]>0.:\n",
        "                    SHELL = tf.reduce_mean(tf.math.squared_difference(\n",
        "                        tf.norm(generated, ord=2, axis=1),\n",
        "                        tf.ones_like(tf.norm(generated, ord=2, axis=1))*np.sqrt(params[\"z_size\"])))\n",
        "\n",
        "\n",
        "                gain =params[\"gen_div_coeff\"] * DIV + \\\n",
        "                      -params[\"gen_ent_coeff\"] * ENT + \\\n",
        "                       -params[\"gen_shell_coeff\"] * SHELL\n",
        "\n",
        "            grad = tape.gradient(gain, generated)\n",
        "            generated = (generated + grad)\n",
        "\n",
        "        if final_latent is None:\n",
        "            final_latent = tf.identity(generated)\n",
        "        else:\n",
        "            final_latent = tf.concat([final_latent, generated], axis=0)\n",
        "\n",
        "\n",
        "    tf.stop_gradient(final_latent)\n",
        "\n",
        "    mir_worked = not np.isnan(final_latent).any()\n",
        "    mem_x = final_latent if mir_worked else generate(agent, train=False)\n",
        "\n",
        "    return mem_x, mir_worked"
      ],
      "metadata": {
        "id": "5ho68Omg8kVl"
      }
    },
    {
      "cell_type": "code",
      "execution_count": 35,
      "metadata": {
        "id": "lM8aEv6833SS"
      },
      "outputs": [],
      "source": [
        "'''Train the generator unit'''\n",
        "\n",
        "def train_generator(agent):\n",
        "\n",
        "    data = agent.state[\"data\"]\n",
        "    latent = agent.encoder(data)\n",
        "\n",
        "    mem_x = None\n",
        "    for it in range(agent.params[\"gen_iters\"]):\n",
        "        generate(agent, input_latent=latent)\n",
        "\n",
        "        #if agent.state[\"task\"] > 0:\n",
        "        #    if it == 0 or not agent.params[\"reuse_samples\"]:\n",
        "        #       mem_x, mir_worked = retrieve_gen_for_gen(agent)\n",
        "\n",
        "        #        agent.state[\"mir_tries\"] += 1\n",
        "        #        if mir_worked:\n",
        "        #            agent.state[\"mir_success\"] += 1\n",
        "\n",
        "        #if mem_x is not None:\n",
        "        #  if len(mem_x.shape) == 3:\n",
        "        #    mem_x = tf.expand__dims(mem_x, axis=-1)\n",
        "        #  generate(agent, input_latent=mem_x, coeff=agent.params[\"mem_coeff\"])\n"
      ]
    },
    {
      "cell_type": "code",
      "execution_count": 34,
      "metadata": {
        "id": "AXTbt9sT8gHE"
      },
      "outputs": [],
      "source": [
        "'''Train the encoder and the classifier unit'''\n",
        "\n",
        "def train_classifier(agent):\n",
        "\n",
        "    data = agent.state[\"data\"]\n",
        "    target = agent.state[\"target\"]\n",
        "    mem_x, mem_y = None, None\n",
        "\n",
        "    for it in range(agent.params[\"cls_iters\"]):\n",
        "        history = agent.encoder_classifier.fit(data, target, batch_size=agent.params[\"batch_size\"], epochs=1, verbose=0)\n",
        "        #if agent.state[\"task\"] > 0:\n",
        "        #    if it == 0 or not agent.params[\"reuse_samples\"]:\n",
        "        #        mem_x, mem_y, mir_worked = retrieve_gen_for_cls(agent)\n",
        "        #        agent.state[\"mir_tries\"] += 1\n",
        "        #        if mir_worked:\n",
        "        #            agent.state[\"mir_success\"] += 1\n",
        "\n",
        "        #    if mem_x is not None:\n",
        "        #        agent.cls_model.fit(mem_x, mem_y, batch_size=agent.params[\"batch_size\"], epochs=1, verbose=1)\n",
        "\n",
        "        agent.state[\"epoch_eval\"][\"cls_loss\"].append(history.history[\"loss\"][0])\n",
        "        agent.state[\"epoch_eval\"][\"cls_acc\"].append(history.history[\"accuracy\"][0])"
      ]
    },
    {
      "cell_type": "code",
      "execution_count": 12,
      "metadata": {
        "id": "0A88lN-h9hdV"
      },
      "outputs": [],
      "source": [
        "'''Train model'''\n",
        "\n",
        "def train_model(function, agent):\n",
        "    agent.state[\"sample_amt\"] = 0\n",
        "    agent.state[\"epoch_eval\"] = dict()\n",
        "    agent.state[\"epoch_eval\"][\"cls_loss\"] = []\n",
        "    agent.state[\"epoch_eval\"][\"cls_acc\"] = []\n",
        "    agent.state[\"epoch_eval\"][\"gen_loss\"] = []\n",
        "    agent.state[\"epoch_eval\"][\"retr_cls_loss\"] = []\n",
        "    agent.state[\"epoch_eval\"][\"retr_gen_loss\"] = []\n",
        "    loader = agent.state[\"tr_loader\"]\n",
        "    for i, (data, target) in enumerate(loader):\n",
        "        #if agent.state[\"sample_amt\"] > agent.params[\"samples_per_task\"] > 0: break\n",
        "        agent.state[\"sample_amt\"] += data.shape[0]\n",
        "        agent.state[\"data\"] = data\n",
        "        agent.state[\"target\"] = target\n",
        "        agent.state[\"i_example\"] = i\n",
        "        function(agent)\n"
      ]
    },
    {
      "cell_type": "code",
      "execution_count": 13,
      "outputs": [],
      "source": [
        "'''Run an epoch'''\n",
        "\n",
        "def run_epoch(agent):\n",
        "\n",
        "    gc.collect()\n",
        "\n",
        "    print(\"Running epoch...\")\n",
        "\n",
        "    train_model(train_classifier, agent)\n",
        "    train_model(train_generator, agent)\n",
        "\n",
        "\n",
        "    '''Evaluate the models in epoch'''\n",
        "    if agent.state[\"epoch\"] % agent.params[\"print_every\"] == 0:\n",
        "        print(f\"Task: {agent.state['task']}  Epoch: {agent.state['epoch']}\"\n",
        "              f\"    Classifier loss: {np.mean(agent.state['epoch_eval']['cls_loss'])}\"\n",
        "              f\"    Classifier accuracy: {np.mean(agent.state['epoch_eval']['cls_acc'])}\"\n",
        "              f\"    Generator loss: {np.mean(agent.state['epoch_eval']['gen_loss'])}\"\n",
        "              f\"    Loss on gen retrieve for cls: {np.mean(agent.state['epoch_eval']['retr_cls_loss'])}\"\n",
        "              f\"    Loss on gen retrieve for gen: {np.mean(agent.state['epoch_eval']['retr_gen_loss'])}\")"
      ],
      "metadata": {
        "id": "xmJWM9GCzym_"
      }
    },
    {
      "cell_type": "code",
      "execution_count": 14,
      "metadata": {
        "id": "0SyPNSep_K0t"
      },
      "outputs": [],
      "source": [
        "'''Run a task'''\n",
        "\n",
        "def run_task(agent):\n",
        "\n",
        "    agent.state[\"mir_tries\"], agent.state[\"mir_success\"] = 0, 0\n",
        "\n",
        "    for epoch in range(agent.params[\"n_epochs\"]):\n",
        "        agent.state[\"epoch\"] = epoch\n",
        "        run_epoch(agent)\n",
        "\n",
        "    '''Evaluate forgetting'''\n",
        "    print(\"Task: \", agent.state[\"task\"])\n",
        "    for i in range(agent.state[\"task\"]):\n",
        "        task_loss = []\n",
        "        task_eval = []\n",
        "        for data, target in agent.state[\"ts_loader\"][i]:\n",
        "            logits = agent.encoder_classifier(data)\n",
        "            pred = np.argmax(logits, axis=1)\n",
        "            y = np.argmax(target, axis=1)\n",
        "            #eval = agent.eval(y, pred)\n",
        "            task_eval.append(eval)\n",
        "            loss = tf.keras.losses.categorical_crossentropy(target, logits)\n",
        "            task_loss.append(np.mean(loss))\n",
        "        print(f\"Task {agent.state['task']} forgetting on task {i} : \"\n",
        "              f\"    Loss: {np.mean(task_loss)}\"\n",
        "              f\"    ACC: {np.mean(task_eval)}\")\n",
        "\n",
        "    #print(\"MIR success rate: \", agent.state[\"mir_success\"] / agent.state[\"mir_tries\"])"
      ]
    },
    {
      "cell_type": "code",
      "execution_count": 27,
      "metadata": {
        "id": "VhbA5MCFCi4r"
      },
      "outputs": [],
      "source": [
        "'''Run the experiment'''\n",
        "\n",
        "def run(agent):\n",
        "\n",
        "  agent.set_models(\n",
        "      _classifier=Classifier(),\n",
        "      _generator=Generator(img_height=32, img_width=32),\n",
        "      _encoder=Encoder(),\n",
        "  )\n",
        "\n",
        "  for task, (tr_loader, ts_loader) in enumerate(zip(train_loader, test_loader)):\n",
        "    agent.state[\"task\"] = task\n",
        "    agent.state[\"tr_loader\"] = tr_loader\n",
        "    agent.state[\"ts_loader\"] = ts_loader\n",
        "    run_task(agent)"
      ]
    },
    {
      "cell_type": "markdown",
      "source": [
        "# Training"
      ],
      "metadata": {
        "collapsed": false,
        "id": "AoBLwork8kVn"
      }
    },
    {
      "cell_type": "code",
      "execution_count": 40,
      "metadata": {
        "id": "BlPHqKTaC41u",
        "outputId": "17b70780-ca30-430e-a24d-6f1056f86360",
        "colab": {
          "base_uri": "https://localhost:8080/",
          "height": 1000
        }
      },
      "outputs": [
        {
          "output_type": "stream",
          "name": "stdout",
          "text": [
            "Generator init\n",
            "Running epoch...\n"
          ]
        },
        {
          "output_type": "error",
          "ename": "InvalidArgumentError",
          "evalue": "ignored",
          "traceback": [
            "\u001b[0;31m---------------------------------------------------------------------------\u001b[0m",
            "\u001b[0;31mInvalidArgumentError\u001b[0m                      Traceback (most recent call last)",
            "\u001b[0;32m<ipython-input-40-69955ed98a85>\u001b[0m in \u001b[0;36m<cell line: 2>\u001b[0;34m()\u001b[0m\n\u001b[1;32m      2\u001b[0m \u001b[0;32mfor\u001b[0m \u001b[0mr\u001b[0m \u001b[0;32min\u001b[0m \u001b[0mrange\u001b[0m\u001b[0;34m(\u001b[0m\u001b[0magent\u001b[0m\u001b[0;34m.\u001b[0m\u001b[0mparams\u001b[0m\u001b[0;34m[\u001b[0m\u001b[0;34m\"n_runs\"\u001b[0m\u001b[0;34m]\u001b[0m\u001b[0;34m)\u001b[0m\u001b[0;34m:\u001b[0m\u001b[0;34m\u001b[0m\u001b[0;34m\u001b[0m\u001b[0m\n\u001b[1;32m      3\u001b[0m   \u001b[0magent\u001b[0m\u001b[0;34m.\u001b[0m\u001b[0mstate\u001b[0m\u001b[0;34m[\u001b[0m\u001b[0;34m\"run\"\u001b[0m\u001b[0;34m]\u001b[0m \u001b[0;34m=\u001b[0m \u001b[0mr\u001b[0m\u001b[0;34m\u001b[0m\u001b[0;34m\u001b[0m\u001b[0m\n\u001b[0;32m----> 4\u001b[0;31m   \u001b[0mrun\u001b[0m\u001b[0;34m(\u001b[0m\u001b[0magent\u001b[0m\u001b[0;34m)\u001b[0m\u001b[0;34m\u001b[0m\u001b[0;34m\u001b[0m\u001b[0m\n\u001b[0m",
            "\u001b[0;32m<ipython-input-27-0b5672c37b83>\u001b[0m in \u001b[0;36mrun\u001b[0;34m(agent)\u001b[0m\n\u001b[1;32m     13\u001b[0m     \u001b[0magent\u001b[0m\u001b[0;34m.\u001b[0m\u001b[0mstate\u001b[0m\u001b[0;34m[\u001b[0m\u001b[0;34m\"tr_loader\"\u001b[0m\u001b[0;34m]\u001b[0m \u001b[0;34m=\u001b[0m \u001b[0mtr_loader\u001b[0m\u001b[0;34m\u001b[0m\u001b[0;34m\u001b[0m\u001b[0m\n\u001b[1;32m     14\u001b[0m     \u001b[0magent\u001b[0m\u001b[0;34m.\u001b[0m\u001b[0mstate\u001b[0m\u001b[0;34m[\u001b[0m\u001b[0;34m\"ts_loader\"\u001b[0m\u001b[0;34m]\u001b[0m \u001b[0;34m=\u001b[0m \u001b[0mts_loader\u001b[0m\u001b[0;34m\u001b[0m\u001b[0;34m\u001b[0m\u001b[0m\n\u001b[0;32m---> 15\u001b[0;31m     \u001b[0mrun_task\u001b[0m\u001b[0;34m(\u001b[0m\u001b[0magent\u001b[0m\u001b[0;34m)\u001b[0m\u001b[0;34m\u001b[0m\u001b[0;34m\u001b[0m\u001b[0m\n\u001b[0m",
            "\u001b[0;32m<ipython-input-14-8ff6ce49b1a2>\u001b[0m in \u001b[0;36mrun_task\u001b[0;34m(agent)\u001b[0m\n\u001b[1;32m      7\u001b[0m     \u001b[0;32mfor\u001b[0m \u001b[0mepoch\u001b[0m \u001b[0;32min\u001b[0m \u001b[0mrange\u001b[0m\u001b[0;34m(\u001b[0m\u001b[0magent\u001b[0m\u001b[0;34m.\u001b[0m\u001b[0mparams\u001b[0m\u001b[0;34m[\u001b[0m\u001b[0;34m\"n_epochs\"\u001b[0m\u001b[0;34m]\u001b[0m\u001b[0;34m)\u001b[0m\u001b[0;34m:\u001b[0m\u001b[0;34m\u001b[0m\u001b[0;34m\u001b[0m\u001b[0m\n\u001b[1;32m      8\u001b[0m         \u001b[0magent\u001b[0m\u001b[0;34m.\u001b[0m\u001b[0mstate\u001b[0m\u001b[0;34m[\u001b[0m\u001b[0;34m\"epoch\"\u001b[0m\u001b[0;34m]\u001b[0m \u001b[0;34m=\u001b[0m \u001b[0mepoch\u001b[0m\u001b[0;34m\u001b[0m\u001b[0;34m\u001b[0m\u001b[0m\n\u001b[0;32m----> 9\u001b[0;31m         \u001b[0mrun_epoch\u001b[0m\u001b[0;34m(\u001b[0m\u001b[0magent\u001b[0m\u001b[0;34m)\u001b[0m\u001b[0;34m\u001b[0m\u001b[0;34m\u001b[0m\u001b[0m\n\u001b[0m\u001b[1;32m     10\u001b[0m \u001b[0;34m\u001b[0m\u001b[0m\n\u001b[1;32m     11\u001b[0m     \u001b[0;34m'''Evaluate forgetting'''\u001b[0m\u001b[0;34m\u001b[0m\u001b[0;34m\u001b[0m\u001b[0m\n",
            "\u001b[0;32m<ipython-input-13-600f05e41b9f>\u001b[0m in \u001b[0;36mrun_epoch\u001b[0;34m(agent)\u001b[0m\n\u001b[1;32m      8\u001b[0m \u001b[0;34m\u001b[0m\u001b[0m\n\u001b[1;32m      9\u001b[0m     \u001b[0mtrain_model\u001b[0m\u001b[0;34m(\u001b[0m\u001b[0mtrain_classifier\u001b[0m\u001b[0;34m,\u001b[0m \u001b[0magent\u001b[0m\u001b[0;34m)\u001b[0m\u001b[0;34m\u001b[0m\u001b[0;34m\u001b[0m\u001b[0m\n\u001b[0;32m---> 10\u001b[0;31m     \u001b[0mtrain_model\u001b[0m\u001b[0;34m(\u001b[0m\u001b[0mtrain_generator\u001b[0m\u001b[0;34m,\u001b[0m \u001b[0magent\u001b[0m\u001b[0;34m)\u001b[0m\u001b[0;34m\u001b[0m\u001b[0;34m\u001b[0m\u001b[0m\n\u001b[0m\u001b[1;32m     11\u001b[0m \u001b[0;34m\u001b[0m\u001b[0m\n\u001b[1;32m     12\u001b[0m \u001b[0;34m\u001b[0m\u001b[0m\n",
            "\u001b[0;32m<ipython-input-12-ec5fe1b0bc5c>\u001b[0m in \u001b[0;36mtrain_model\u001b[0;34m(function, agent)\u001b[0m\n\u001b[1;32m     16\u001b[0m         \u001b[0magent\u001b[0m\u001b[0;34m.\u001b[0m\u001b[0mstate\u001b[0m\u001b[0;34m[\u001b[0m\u001b[0;34m\"target\"\u001b[0m\u001b[0;34m]\u001b[0m \u001b[0;34m=\u001b[0m \u001b[0mtarget\u001b[0m\u001b[0;34m\u001b[0m\u001b[0;34m\u001b[0m\u001b[0m\n\u001b[1;32m     17\u001b[0m         \u001b[0magent\u001b[0m\u001b[0;34m.\u001b[0m\u001b[0mstate\u001b[0m\u001b[0;34m[\u001b[0m\u001b[0;34m\"i_example\"\u001b[0m\u001b[0;34m]\u001b[0m \u001b[0;34m=\u001b[0m \u001b[0mi\u001b[0m\u001b[0;34m\u001b[0m\u001b[0;34m\u001b[0m\u001b[0m\n\u001b[0;32m---> 18\u001b[0;31m         \u001b[0mfunction\u001b[0m\u001b[0;34m(\u001b[0m\u001b[0magent\u001b[0m\u001b[0;34m)\u001b[0m\u001b[0;34m\u001b[0m\u001b[0;34m\u001b[0m\u001b[0m\n\u001b[0m",
            "\u001b[0;32m<ipython-input-35-294a61dd4bc9>\u001b[0m in \u001b[0;36mtrain_generator\u001b[0;34m(agent)\u001b[0m\n\u001b[1;32m      8\u001b[0m     \u001b[0mmem_x\u001b[0m \u001b[0;34m=\u001b[0m \u001b[0;32mNone\u001b[0m\u001b[0;34m\u001b[0m\u001b[0;34m\u001b[0m\u001b[0m\n\u001b[1;32m      9\u001b[0m     \u001b[0;32mfor\u001b[0m \u001b[0mit\u001b[0m \u001b[0;32min\u001b[0m \u001b[0mrange\u001b[0m\u001b[0;34m(\u001b[0m\u001b[0magent\u001b[0m\u001b[0;34m.\u001b[0m\u001b[0mparams\u001b[0m\u001b[0;34m[\u001b[0m\u001b[0;34m\"gen_iters\"\u001b[0m\u001b[0;34m]\u001b[0m\u001b[0;34m)\u001b[0m\u001b[0;34m:\u001b[0m\u001b[0;34m\u001b[0m\u001b[0;34m\u001b[0m\u001b[0m\n\u001b[0;32m---> 10\u001b[0;31m         \u001b[0mgenerate\u001b[0m\u001b[0;34m(\u001b[0m\u001b[0magent\u001b[0m\u001b[0;34m,\u001b[0m \u001b[0minput_latent\u001b[0m\u001b[0;34m=\u001b[0m\u001b[0mlatent\u001b[0m\u001b[0;34m)\u001b[0m\u001b[0;34m\u001b[0m\u001b[0;34m\u001b[0m\u001b[0m\n\u001b[0m\u001b[1;32m     11\u001b[0m \u001b[0;34m\u001b[0m\u001b[0m\n\u001b[1;32m     12\u001b[0m         \u001b[0;31m#if agent.state[\"task\"] > 0:\u001b[0m\u001b[0;34m\u001b[0m\u001b[0;34m\u001b[0m\u001b[0m\n",
            "\u001b[0;32m<ipython-input-39-07840c626710>\u001b[0m in \u001b[0;36mgenerate\u001b[0;34m(agent, cls, input_latent, train, coeff)\u001b[0m\n\u001b[1;32m     17\u001b[0m         \u001b[0;32mif\u001b[0m \u001b[0mtrain\u001b[0m\u001b[0;34m:\u001b[0m\u001b[0;34m\u001b[0m\u001b[0;34m\u001b[0m\u001b[0m\n\u001b[1;32m     18\u001b[0m             \u001b[0;32mwith\u001b[0m \u001b[0mtf\u001b[0m\u001b[0;34m.\u001b[0m\u001b[0mGradientTape\u001b[0m\u001b[0;34m(\u001b[0m\u001b[0;34m)\u001b[0m \u001b[0;32mas\u001b[0m \u001b[0mtape\u001b[0m\u001b[0;34m:\u001b[0m\u001b[0;34m\u001b[0m\u001b[0;34m\u001b[0m\u001b[0m\n\u001b[0;32m---> 19\u001b[0;31m                 e_t = agent.generator.get_model_output(\n\u001b[0m\u001b[1;32m     20\u001b[0m                     \u001b[0mlatent\u001b[0m\u001b[0;34m,\u001b[0m\u001b[0;34m\u001b[0m\u001b[0;34m\u001b[0m\u001b[0m\n\u001b[1;32m     21\u001b[0m                     \u001b[0mtimestep\u001b[0m\u001b[0;34m,\u001b[0m\u001b[0;34m\u001b[0m\u001b[0;34m\u001b[0m\u001b[0m\n",
            "\u001b[0;32m/content/generator.py\u001b[0m in \u001b[0;36mget_model_output\u001b[0;34m(self, latent, timestep, batch_size)\u001b[0m\n\u001b[1;32m    164\u001b[0m         \u001b[0mt_emb\u001b[0m \u001b[0;34m=\u001b[0m \u001b[0mself\u001b[0m\u001b[0;34m.\u001b[0m\u001b[0mtimestep_embedding\u001b[0m\u001b[0;34m(\u001b[0m\u001b[0mtimesteps\u001b[0m\u001b[0;34m)\u001b[0m\u001b[0;34m\u001b[0m\u001b[0;34m\u001b[0m\u001b[0m\n\u001b[1;32m    165\u001b[0m         \u001b[0mt_emb\u001b[0m \u001b[0;34m=\u001b[0m \u001b[0mtf\u001b[0m\u001b[0;34m.\u001b[0m\u001b[0mrepeat\u001b[0m\u001b[0;34m(\u001b[0m\u001b[0mt_emb\u001b[0m\u001b[0;34m,\u001b[0m \u001b[0mrepeats\u001b[0m\u001b[0;34m=\u001b[0m\u001b[0mbatch_size\u001b[0m\u001b[0;34m,\u001b[0m \u001b[0maxis\u001b[0m\u001b[0;34m=\u001b[0m\u001b[0;36m0\u001b[0m\u001b[0;34m)\u001b[0m\u001b[0;34m\u001b[0m\u001b[0;34m\u001b[0m\u001b[0m\n\u001b[0;32m--> 166\u001b[0;31m         \u001b[0mlatent\u001b[0m \u001b[0;34m=\u001b[0m \u001b[0mself\u001b[0m\u001b[0;34m.\u001b[0m\u001b[0mcall\u001b[0m\u001b[0;34m(\u001b[0m\u001b[0;34m[\u001b[0m\u001b[0mlatent\u001b[0m\u001b[0;34m,\u001b[0m \u001b[0mt_emb\u001b[0m\u001b[0;34m]\u001b[0m\u001b[0;34m)\u001b[0m\u001b[0;34m\u001b[0m\u001b[0;34m\u001b[0m\u001b[0m\n\u001b[0m\u001b[1;32m    167\u001b[0m         \u001b[0;32mreturn\u001b[0m \u001b[0mlatent\u001b[0m\u001b[0;34m\u001b[0m\u001b[0;34m\u001b[0m\u001b[0m\n\u001b[1;32m    168\u001b[0m \u001b[0;34m\u001b[0m\u001b[0m\n",
            "\u001b[0;32m/content/generator.py\u001b[0m in \u001b[0;36mcall\u001b[0;34m(self, inputs)\u001b[0m\n\u001b[1;32m    124\u001b[0m         \u001b[0;32mfor\u001b[0m \u001b[0mb\u001b[0m \u001b[0;32min\u001b[0m \u001b[0mself\u001b[0m\u001b[0;34m.\u001b[0m\u001b[0minput_blocks\u001b[0m\u001b[0;34m:\u001b[0m\u001b[0;34m\u001b[0m\u001b[0;34m\u001b[0m\u001b[0m\n\u001b[1;32m    125\u001b[0m             \u001b[0;32mfor\u001b[0m \u001b[0mlayer\u001b[0m \u001b[0;32min\u001b[0m \u001b[0mb\u001b[0m\u001b[0;34m:\u001b[0m\u001b[0;34m\u001b[0m\u001b[0;34m\u001b[0m\u001b[0m\n\u001b[0;32m--> 126\u001b[0;31m                 \u001b[0mx\u001b[0m \u001b[0;34m=\u001b[0m \u001b[0mapply\u001b[0m\u001b[0;34m(\u001b[0m\u001b[0mx\u001b[0m\u001b[0;34m,\u001b[0m \u001b[0mlayer\u001b[0m\u001b[0;34m)\u001b[0m\u001b[0;34m\u001b[0m\u001b[0;34m\u001b[0m\u001b[0m\n\u001b[0m\u001b[1;32m    127\u001b[0m             \u001b[0msaved_inputs\u001b[0m\u001b[0;34m.\u001b[0m\u001b[0mappend\u001b[0m\u001b[0;34m(\u001b[0m\u001b[0mx\u001b[0m\u001b[0;34m)\u001b[0m\u001b[0;34m\u001b[0m\u001b[0;34m\u001b[0m\u001b[0m\n\u001b[1;32m    128\u001b[0m \u001b[0;34m\u001b[0m\u001b[0m\n",
            "\u001b[0;32m/content/generator.py\u001b[0m in \u001b[0;36mapply\u001b[0;34m(x, layer)\u001b[0m\n\u001b[1;32m    119\u001b[0m \u001b[0;34m\u001b[0m\u001b[0m\n\u001b[1;32m    120\u001b[0m         \u001b[0;32mdef\u001b[0m \u001b[0mapply\u001b[0m\u001b[0;34m(\u001b[0m\u001b[0mx\u001b[0m\u001b[0;34m,\u001b[0m \u001b[0mlayer\u001b[0m\u001b[0;34m)\u001b[0m\u001b[0;34m:\u001b[0m\u001b[0;34m\u001b[0m\u001b[0;34m\u001b[0m\u001b[0m\n\u001b[0;32m--> 121\u001b[0;31m             \u001b[0;32mreturn\u001b[0m \u001b[0mlayer\u001b[0m\u001b[0;34m(\u001b[0m\u001b[0;34m[\u001b[0m\u001b[0mx\u001b[0m\u001b[0;34m,\u001b[0m \u001b[0memb\u001b[0m\u001b[0;34m]\u001b[0m\u001b[0;34m)\u001b[0m \u001b[0;32mif\u001b[0m \u001b[0misinstance\u001b[0m\u001b[0;34m(\u001b[0m\u001b[0mlayer\u001b[0m\u001b[0;34m,\u001b[0m \u001b[0mResBlock\u001b[0m\u001b[0;34m)\u001b[0m \u001b[0;32melse\u001b[0m \u001b[0mlayer\u001b[0m\u001b[0;34m(\u001b[0m\u001b[0mx\u001b[0m\u001b[0;34m)\u001b[0m\u001b[0;34m\u001b[0m\u001b[0;34m\u001b[0m\u001b[0m\n\u001b[0m\u001b[1;32m    122\u001b[0m \u001b[0;34m\u001b[0m\u001b[0m\n\u001b[1;32m    123\u001b[0m         \u001b[0msaved_inputs\u001b[0m \u001b[0;34m=\u001b[0m \u001b[0;34m[\u001b[0m\u001b[0;34m]\u001b[0m\u001b[0;34m\u001b[0m\u001b[0;34m\u001b[0m\u001b[0m\n",
            "\u001b[0;32m/usr/local/lib/python3.10/dist-packages/keras/utils/traceback_utils.py\u001b[0m in \u001b[0;36merror_handler\u001b[0;34m(*args, **kwargs)\u001b[0m\n\u001b[1;32m     68\u001b[0m             \u001b[0;31m# To get the full stack trace, call:\u001b[0m\u001b[0;34m\u001b[0m\u001b[0;34m\u001b[0m\u001b[0m\n\u001b[1;32m     69\u001b[0m             \u001b[0;31m# `tf.debugging.disable_traceback_filtering()`\u001b[0m\u001b[0;34m\u001b[0m\u001b[0;34m\u001b[0m\u001b[0m\n\u001b[0;32m---> 70\u001b[0;31m             \u001b[0;32mraise\u001b[0m \u001b[0me\u001b[0m\u001b[0;34m.\u001b[0m\u001b[0mwith_traceback\u001b[0m\u001b[0;34m(\u001b[0m\u001b[0mfiltered_tb\u001b[0m\u001b[0;34m)\u001b[0m \u001b[0;32mfrom\u001b[0m \u001b[0;32mNone\u001b[0m\u001b[0;34m\u001b[0m\u001b[0;34m\u001b[0m\u001b[0m\n\u001b[0m\u001b[1;32m     71\u001b[0m         \u001b[0;32mfinally\u001b[0m\u001b[0;34m:\u001b[0m\u001b[0;34m\u001b[0m\u001b[0;34m\u001b[0m\u001b[0m\n\u001b[1;32m     72\u001b[0m             \u001b[0;32mdel\u001b[0m \u001b[0mfiltered_tb\u001b[0m\u001b[0;34m\u001b[0m\u001b[0;34m\u001b[0m\u001b[0m\n",
            "\u001b[0;32m/content/generator.py\u001b[0m in \u001b[0;36mcall\u001b[0;34m(self, inputs)\u001b[0m\n\u001b[1;32m     36\u001b[0m         \u001b[0mh\u001b[0m \u001b[0;34m=\u001b[0m \u001b[0mapply_seq\u001b[0m\u001b[0;34m(\u001b[0m\u001b[0mx\u001b[0m\u001b[0;34m,\u001b[0m \u001b[0mself\u001b[0m\u001b[0;34m.\u001b[0m\u001b[0min_layers\u001b[0m\u001b[0;34m)\u001b[0m\u001b[0;34m\u001b[0m\u001b[0;34m\u001b[0m\u001b[0m\n\u001b[1;32m     37\u001b[0m         \u001b[0memb_out\u001b[0m \u001b[0;34m=\u001b[0m \u001b[0mapply_seq\u001b[0m\u001b[0;34m(\u001b[0m\u001b[0memb\u001b[0m\u001b[0;34m,\u001b[0m \u001b[0mself\u001b[0m\u001b[0;34m.\u001b[0m\u001b[0memb_layers\u001b[0m\u001b[0;34m)\u001b[0m\u001b[0;34m\u001b[0m\u001b[0;34m\u001b[0m\u001b[0m\n\u001b[0;32m---> 38\u001b[0;31m         \u001b[0mh\u001b[0m \u001b[0;34m=\u001b[0m \u001b[0mh\u001b[0m \u001b[0;34m+\u001b[0m \u001b[0memb_out\u001b[0m\u001b[0;34m[\u001b[0m\u001b[0;34m:\u001b[0m\u001b[0;34m,\u001b[0m \u001b[0;32mNone\u001b[0m\u001b[0;34m,\u001b[0m \u001b[0;32mNone\u001b[0m\u001b[0;34m]\u001b[0m\u001b[0;34m\u001b[0m\u001b[0;34m\u001b[0m\u001b[0m\n\u001b[0m\u001b[1;32m     39\u001b[0m         \u001b[0mh\u001b[0m \u001b[0;34m=\u001b[0m \u001b[0mapply_seq\u001b[0m\u001b[0;34m(\u001b[0m\u001b[0mh\u001b[0m\u001b[0;34m,\u001b[0m \u001b[0mself\u001b[0m\u001b[0;34m.\u001b[0m\u001b[0mout_layers\u001b[0m\u001b[0;34m)\u001b[0m\u001b[0;34m\u001b[0m\u001b[0;34m\u001b[0m\u001b[0m\n\u001b[1;32m     40\u001b[0m         \u001b[0mskip_x\u001b[0m \u001b[0;34m=\u001b[0m \u001b[0mself\u001b[0m\u001b[0;34m.\u001b[0m\u001b[0mskip_connection\u001b[0m\u001b[0;34m(\u001b[0m\u001b[0mx\u001b[0m\u001b[0;34m)\u001b[0m\u001b[0;34m\u001b[0m\u001b[0;34m\u001b[0m\u001b[0m\n",
            "\u001b[0;31mInvalidArgumentError\u001b[0m: Exception encountered when calling layer 'res_block_198' (type ResBlock).\n\n{{function_node __wrapped__AddV2_device_/job:localhost/replica:0/task:0/device:GPU:0}} required broadcastable shapes [Op:AddV2]\n\nCall arguments received by layer 'res_block_198' (type ResBlock):\n  • inputs=['tf.Tensor(shape=(152, 6, 6, 32), dtype=float32)', 'tf.Tensor(shape=(256, 128), dtype=float32)']"
          ]
        }
      ],
      "source": [
        "agent = Agent(params)\n",
        "for r in range(agent.params[\"n_runs\"]):\n",
        "  agent.state[\"run\"] = r\n",
        "  run(agent)\n",
        "\n",
        "  #a hiba valszeg az utso batch-el van"
      ]
    },
    {
      "cell_type": "markdown",
      "source": [
        "# Eval"
      ],
      "metadata": {
        "collapsed": false,
        "id": "Qqe-XGuwzynA"
      }
    },
    {
      "cell_type": "code",
      "execution_count": null,
      "outputs": [],
      "source": [
        "''' Evaluation'''\n",
        "for task, loader in enumerate(test_loader):\n",
        "    print(\"Task: \", task)\n",
        "    LOSS = []\n",
        "    ACC = []\n",
        "    for data, target in loader:\n",
        "      logits = agent.classifier_model(data)\n",
        "      pred = np.argmax(logits, axis=1)\n",
        "      report = agent.eval(np.argmax(target, axis=1), pred)\n",
        "      loss = tf.keras.losses.categorical_crossentropy(target, logits)\n",
        "      #print(report)\n",
        "      ACC.append(report)\n",
        "      LOSS.append(loss)\n",
        "    print(\"Mean loss: \", np.mean(LOSS))\n",
        "    print(\"Mean accuracy: \", np.mean(ACC))\n",
        "    print(\"\\n\")"
      ],
      "metadata": {
        "id": "-BguEZvfzynA"
      }
    },
    {
      "cell_type": "markdown",
      "source": [
        "# Evaluation, testing"
      ],
      "metadata": {
        "collapsed": false,
        "id": "UiiKIl618kVn"
      }
    },
    {
      "cell_type": "code",
      "execution_count": null,
      "outputs": [],
      "source": [
        "def evaluate(loader, first_n_tasks=None):\n",
        "    for task, tr_loader in enumerate(loader):\n",
        "        print(\"Task: \", task)\n",
        "        data, target = tr_loader.batch(124)\n",
        "        logits = agent.classifier_model(data)\n",
        "        pred = np.argmax(logits, axis=1)\n",
        "        report = agent.eval(np.argmax(target, axis=1), pred)\n",
        "        loss = tf.keras.losses.categorical_crossentropy(target, logits)\n",
        "        print(report)\n",
        "        print(\"Mean loss: \", np.mean(loss))"
      ],
      "metadata": {
        "id": "r_K9lbNh8kVn"
      }
    },
    {
      "cell_type": "code",
      "execution_count": null,
      "metadata": {
        "id": "4I2ZLTm-JnX8"
      },
      "outputs": [],
      "source": [
        "print(\"Evaluation on training set:\")\n",
        "evaluate(train_loader)\n",
        "print(\"Evaluation on test set:\")\n",
        "evaluate(test_loader)"
      ]
    },
    {
      "cell_type": "markdown",
      "source": [
        "# Utils for development"
      ],
      "metadata": {
        "collapsed": false,
        "id": "vOxdRLeJ8kVn"
      }
    },
    {
      "cell_type": "code",
      "execution_count": null,
      "outputs": [
        {
          "data": {
            "text/plain": "<module 'stable_diffusion.stable_diffusion' from '/Users/laszlofreund/PycharmProjects/continual-learning-ait/stable_diffusion/stable_diffusion.py'>"
          },
          "execution_count": 18,
          "metadata": {},
          "output_type": "execute_result"
        }
      ],
      "source": [
        "# Reload modules\n",
        "importlib.reload()"
      ],
      "metadata": {
        "id": "LNWS0pbd8kVn",
        "outputId": "b2184f26-86ef-40da-d970-7bd8b2d283ff"
      }
    },
    {
      "cell_type": "code",
      "execution_count": null,
      "outputs": [
        {
          "data": {
            "text/plain": "21547"
          },
          "execution_count": 26,
          "metadata": {},
          "output_type": "execute_result"
        }
      ],
      "source": [
        "# Garbage collection\n",
        "gc.collect()"
      ],
      "metadata": {
        "id": "NCdIwGMq8kVn",
        "outputId": "2495022b-fa19-489f-ae37-79b95d3ae24a"
      }
    },
    {
      "cell_type": "code",
      "execution_count": null,
      "outputs": [],
      "source": [],
      "metadata": {
        "id": "YvU86CThdnOY"
      }
    }
  ],
  "metadata": {
    "colab": {
      "provenance": [],
      "include_colab_link": true
    },
    "kernelspec": {
      "display_name": "Python 3 (ipykernel)",
      "language": "python",
      "name": "python3"
    },
    "language_info": {
      "codemirror_mode": {
        "name": "ipython",
        "version": 3
      },
      "file_extension": ".py",
      "mimetype": "text/x-python",
      "name": "python",
      "nbconvert_exporter": "python",
      "pygments_lexer": "ipython3",
      "version": "3.9.13"
    },
    "accelerator": "GPU",
    "gpuClass": "standard"
  },
  "nbformat": 4,
  "nbformat_minor": 0
}