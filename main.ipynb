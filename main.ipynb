{
 "cells": [
  {
   "cell_type": "code",
   "execution_count": null,
   "metadata": {
    "colab": {
     "base_uri": "https://localhost:8080/"
    },
    "id": "pveLpmUzEF5A",
    "outputId": "9d696bb4-268a-40f1-e28c-81c589c79419"
   },
   "outputs": [
    {
     "name": "stdout",
     "output_type": "stream",
     "text": [
      "--2023-04-11 14:57:07--  https://github.com/lacykaltgr/continual-learning-ait/archive/refs/heads/main.zip\n",
      "Resolving github.com (github.com)... 140.82.113.4\n",
      "Connecting to github.com (github.com)|140.82.113.4|:443... connected.\n",
      "HTTP request sent, awaiting response... 302 Found\n",
      "Location: https://codeload.github.com/lacykaltgr/continual-learning-ait/zip/refs/heads/main [following]\n",
      "--2023-04-11 14:57:07--  https://codeload.github.com/lacykaltgr/continual-learning-ait/zip/refs/heads/main\n",
      "Resolving codeload.github.com (codeload.github.com)... 140.82.112.10\n",
      "Connecting to codeload.github.com (codeload.github.com)|140.82.112.10|:443... connected.\n",
      "HTTP request sent, awaiting response... 200 OK\n",
      "Length: unspecified [application/zip]\n",
      "Saving to: ‘main.zip’\n",
      "\n",
      "main.zip                [ <=>                ] 154.08K  --.-KB/s    in 0.05s   \n",
      "\n",
      "2023-04-11 14:57:07 (3.06 MB/s) - ‘main.zip’ saved [157773]\n",
      "\n",
      "Archive:  main.zip\n",
      "9d267e6b95e57ad02d2e58c6e1d1f16dcffdefcb\n",
      "   creating: continual-learning-ait-main/\n",
      "  inflating: continual-learning-ait-main/LICENSE  \n",
      "  inflating: continual-learning-ait-main/README.md  \n",
      "  inflating: continual-learning-ait-main/classifier.py  \n",
      "  inflating: continual-learning-ait-main/data_preparation.ipynb  \n",
      "  inflating: continual-learning-ait-main/data_preparation.py  \n",
      "  inflating: continual-learning-ait-main/distributions.py  \n",
      "  inflating: continual-learning-ait-main/loss.py  \n",
      "  inflating: continual-learning-ait-main/main.ipynb  \n",
      "  inflating: continual-learning-ait-main/main.py  \n",
      "  inflating: continual-learning-ait-main/mir.py  \n",
      "  inflating: continual-learning-ait-main/requirements_m1.txt  \n",
      "   creating: continual-learning-ait-main/stable_diffusion/\n",
      "  inflating: continual-learning-ait-main/stable_diffusion/autoencoder_kl.py  \n",
      "  inflating: continual-learning-ait-main/stable_diffusion/diffusion_model.py  \n",
      "  inflating: continual-learning-ait-main/stable_diffusion/layers.py  \n",
      "  inflating: continual-learning-ait-main/stable_diffusion/stable_diffusion.py  \n",
      "  inflating: continual-learning-ait-main/utils.py  \n"
     ]
    }
   ],
   "source": [
    "'''Download the files '''\n",
    "'''Only for colab'''\n",
    "\n",
    "!wget https://github.com/lacykaltgr/continual-learning-ait/archive/refs/heads/main.zip\n",
    "!unzip main.zip\n",
    "!find continual-learning-ait-main -type f ! -name \"main.ipynb\" -exec cp {} . \\;\n",
    "\n",
    "!rm -r stable_diffusion\n",
    "!mkdir stable_diffusion\n",
    "!mv diffusion_model.py stable_diffusion/\n",
    "!mv autoencoder_kl.py stable_diffusion/\n",
    "!mv layers.py stable_diffusion/\n",
    "!mv stable_diffusion.py stable_diffusion/\n",
    "!mv constants.py stable_diffusion/"
   ]
  },
  {
   "cell_type": "code",
   "execution_count": null,
   "metadata": {
    "id": "vjfVuEmXECoL",
    "pycharm": {
     "is_executing": true
    }
   },
   "outputs": [],
   "source": [
    "import tensorflow as tf\n",
    "import numpy as np\n",
    "import keras\n",
    "from tqdm import tqdm\n",
    "\n",
    "from sklearn.metrics import classification_report\n",
    "\n",
    "import classifier\n",
    "from stable_diffusion import stable_diffusion\n",
    "import utils\n",
    "from data_preparation import load_dataset, CLDataLoader\n",
    "\n",
    "import gc\n",
    "import os\n",
    "os.environ['TF_CPP_MIN_LOG_LEVEL'] = '2'\n",
    "\n",
    "import importlib"
   ]
  },
  {
   "cell_type": "markdown",
   "source": [
    "# Load the dataset"
   ],
   "metadata": {
    "collapsed": false
   }
  },
  {
   "cell_type": "code",
   "execution_count": 2,
   "metadata": {
    "colab": {
     "base_uri": "https://localhost:8080/"
    },
    "id": "TaH3bi-5crqD",
    "outputId": "e0efc0f3-ec94-496a-e91d-2f3b7bbacabb"
   },
   "outputs": [],
   "source": [
    "dpt_train, dpt_test = load_dataset('cifar-100')"
   ]
  },
  {
   "cell_type": "code",
   "execution_count": 3,
   "metadata": {
    "id": "yIESUurDeOCR"
   },
   "outputs": [
    {
     "name": "stdout",
     "output_type": "stream",
     "text": [
      "Metal device set to: Apple M2\n"
     ]
    }
   ],
   "source": [
    "batch_size = 256\n",
    "train_loader = CLDataLoader(dpt_train, batch_size , train=True)\n",
    "test_loader = CLDataLoader(dpt_train, batch_size, train=False)"
   ]
  },
  {
   "cell_type": "markdown",
   "source": [
    "# Define parameters and agent"
   ],
   "metadata": {
    "collapsed": false
   }
  },
  {
   "cell_type": "code",
   "execution_count": 39,
   "metadata": {
    "id": "GY9MAk581iYQ"
   },
   "outputs": [],
   "source": [
    "params = {\n",
    "    #general\n",
    "    \"device\": 'cuda:0' if tf.config.list_physical_devices('GPU') else 'cpu',\n",
    "    \"n_runs\": 1,\n",
    "    \"n_tasks\": 10,\n",
    "    \"n_epochs\": 2,\n",
    "    \"n_classes\": 100,\n",
    "    \"input_shape\": (32,32, 3),\n",
    "    \"embedding_shape\": (4,4,4),\n",
    "    \"samples_per_task\": 1000,\n",
    "    \"batch_size\": batch_size,\n",
    "    \"print_every\": 5,\n",
    "\n",
    "    #classifier\n",
    "    \"cls_iters\": 10,\n",
    "    \"cls_hiddens\": 32,\n",
    "    \"cls_lr\": 0.001,\n",
    "\n",
    "    #generator\n",
    "    \"gen_depth\": 6,\n",
    "    \"num_steps\": 10,\n",
    "    \"gen_iters\": 1,\n",
    "    \"input_latent_strength\":0.5,\n",
    "    \"gen_temperature\":1,\n",
    "    \"gen_lr\": 0.001,\n",
    "    \"temperature\": 1,\n",
    "\n",
    "    #mir\n",
    "    \"reuse_samples\": True,\n",
    "    \"cls_mir_gen\": 1,\n",
    "    \"gen_mir_gen\": 1,\n",
    "    \"mem_coeff\": 0.12,\n",
    "    \"n_mem\": 10,\n",
    "    \"mir_init_prior\": 10,\n",
    "    \"z_size\": 10,\n",
    "    \"mir_iters\": 3,\n",
    "    \"gen_kl_coeff\": 0.5,\n",
    "    \"gen_rec_coeff\": 0.5,\n",
    "    \"gen_ent_coeff\": 0.5,\n",
    "    \"gen_div_coeff\": 0.5,\n",
    "    \"gen_shell_coeff\": 0.5,\n",
    "    \"cls_xent_coeff\": 0.5,\n",
    "    \"cls_ent_coeff\": 0.5,\n",
    "    \"cls_div_coeff\": 0.5,\n",
    "    \"cls_shell_coeff\": 0.5,\n",
    "}"
   ]
  },
  {
   "cell_type": "code",
   "execution_count": 5,
   "metadata": {
    "id": "OmitFSMM2WJn"
   },
   "outputs": [],
   "source": [
    "'''Agent to handle models, parameters and states'''\n",
    "\n",
    "class Agent:\n",
    "  def __init__(self, hparams):\n",
    "    self.cls = None\n",
    "    self.opt = None\n",
    "    self.opt_gen = None\n",
    "    self.gen = None\n",
    "    self.params = hparams\n",
    "    self.state = dict()\n",
    "    self.encoder = None\n",
    "    self.classifier_model = None\n",
    "    #self.decoder = None\n",
    "\n",
    "  def set_models(self, generator=None, classifier=None):\n",
    "    self.cls = classifier\n",
    "    self.gen = generator\n",
    "    self.encoder = generator.encoder\n",
    "    #self.decoder = gen.decoder\n",
    "    self.opt = tf.keras.optimizers.legacy.Adam(learning_rate=params[\"cls_lr\"])\n",
    "    self.opt_gen = tf.keras.optimizers.legacy.Adam(learning_rate=params[\"gen_lr\"])\n",
    "\n",
    "    data_input = keras.Input(shape=self.params[\"input_shape\"], name=\"image\")\n",
    "    encoder_output = agent.encoder(data_input)\n",
    "    cls_output = agent.cls(encoder_output)\n",
    "    self.classifier_model = keras.Model(inputs=data_input, outputs=cls_output)\n",
    "    self.classifier_model.compile(optimizer=self.opt, loss=\"categorical_crossentropy\", metrics=[\"accuracy\"])"
   ]
  },
  {
   "cell_type": "markdown",
   "source": [
    "# Functions for training"
   ],
   "metadata": {
    "collapsed": false
   }
  },
  {
   "cell_type": "code",
   "execution_count": 6,
   "outputs": [],
   "source": [
    "'''Generate samples and train the diffusion model the same time'''\n",
    "\n",
    "def generate(agent, cls=None, input_latent=None, train=True, coeff=1.0):\n",
    "\n",
    "    print(\"Generating samples...\")\n",
    "\n",
    "    if cls is None:\n",
    "        cls = agent.cls\n",
    "\n",
    "    latent, alphas, alphas_prev, timesteps = agent.gen.initialize(agent.params, input_latent)\n",
    "\n",
    "\n",
    "    progbar = tqdm(list(enumerate(timesteps))[::-1])\n",
    "    for index, timestep in progbar:\n",
    "        progbar.set_description(f'{index:3d} {timestep:3d}')\n",
    "        if train:\n",
    "            with tf.GradientTape() as tape:\n",
    "                e_t = agent.gen.get_model_output(\n",
    "                    latent,\n",
    "                    timestep,\n",
    "                    agent.params['batch_size'],\n",
    "                )\n",
    "                a_t, a_prev = alphas[index], alphas_prev[index]\n",
    "                latent = agent.gen.get_x_prev(latent, e_t,  a_t, a_prev, agent.params[\"temperature\"])\n",
    "\n",
    "                pred = cls(latent)\n",
    "                #loss based on confidence\n",
    "                #ENT = tf.reduce_mean(tf.nn.softmax_cross_entropy_with_logits(labels=y_pre, logits=y_pre))\n",
    "                loss = coeff*tf.keras.losses.categorical_crossentropy(pred, pred)\n",
    "            grads = tape.gradient(loss, agent.gen.diffusion_model.trainable_variables)\n",
    "            agent.opt_gen.apply_gradients(zip(grads, agent.gen.diffusion_model.trainable_variables))\n",
    "        else:\n",
    "            e_t = agent.gen.get_model_output(\n",
    "                latent,\n",
    "                timestep,\n",
    "                agent.params['batch_size'],\n",
    "            )\n",
    "            a_t, a_prev = alphas[index], alphas_prev[index]\n",
    "            latent = agent.gen.get_x_prev(latent, e_t,  a_t, a_prev, agent.params[\"temperature\"])\n",
    "\n",
    "\n",
    "\n",
    "    return latent"
   ],
   "metadata": {
    "collapsed": false
   }
  },
  {
   "cell_type": "code",
   "execution_count": 29,
   "outputs": [],
   "source": [
    "'''Retrive maximally interferred latent vector for classifier'''\n",
    "\n",
    "def retrieve_gen_for_cls(agent):\n",
    "\n",
    "    print(\"Retrieving latent vector for classifier...\")\n",
    "\n",
    "    latent = agent.gen.encoder(agent.state[\"data\"])\n",
    "    virtual_cls = classifier.classifier(agent.params)\n",
    "    virtual_cls = utils.get_next_step_cls(\n",
    "        agent.cls,\n",
    "        virtual_cls,\n",
    "        latent,\n",
    "        agent.state[\"target\"]\n",
    "    )\n",
    "\n",
    "    #mean_latent = tf.cast(tf.reduce_mean(latent, axis=0), tf.float64)\n",
    "    z_new_max = None\n",
    "\n",
    "    for i in range(agent.params[\"n_mem\"]):\n",
    "\n",
    "        z_new = generate(agent, input_latent=latent, train=False, coeff=0.1)\n",
    "\n",
    "        for j in range(params[\"mir_iters\"]):\n",
    "            with tf.GradientTape(persistent=True) as tape:\n",
    "\n",
    "                tape.watch(z_new)\n",
    "\n",
    "                #z_new = tf.cast(z_new, tf.float64)\n",
    "                y_pre = agent.cls(z_new)\n",
    "                y_virtual = virtual_cls(z_new)\n",
    "\n",
    "                # maximise the interference:\n",
    "                XENT = tf.constant(0.)\n",
    "                if params[\"cls_xent_coeff\"] > 0.:\n",
    "                    XENT = tf.keras.losses.categorical_crossentropy(y_virtual, y_pre)\n",
    "\n",
    "                # the predictions from the two models should be confident\n",
    "                ENT = tf.constant(0.)\n",
    "                if params[\"cls_ent_coeff\"] > 0.:\n",
    "                    ENT = tf.keras.losses.categorical_crossentropy(y_pre, y_pre)\n",
    "\n",
    "                # the new-found samples should be different from each others\n",
    "                DIV = tf.constant(0.)\n",
    "                if params[\"cls_div_coeff\"] > 0.:\n",
    "                    for found_z_i in range(i):\n",
    "                        DIV += tf.keras.losses.MSE(\n",
    "                            z_new,\n",
    "                            z_new_max[found_z_i * z_new.shape[0]:found_z_i * z_new.shape[0] + z_new.shape[0]]\n",
    "                        ) / i\n",
    "\n",
    "                # (NEW) stay on gaussian shell loss:\n",
    "                SHELL = tf.constant(0.)\n",
    "                if params[\"cls_shell_coeff\"] > 0.:\n",
    "                    SHELL = tf.keras.losses.MSE(\n",
    "                        tf.norm(z_new, axis=1),\n",
    "                        tf.ones_like(tf.norm(z_new, axis=1))*np.sqrt(params[\"z_size\"])\n",
    "                    )\n",
    "\n",
    "                XENT, ENT, DIV, SHELL = \\\n",
    "                    tf.reduce_mean(XENT), \\\n",
    "                        tf.reduce_mean(ENT), \\\n",
    "                        tf.reduce_mean(DIV), \\\n",
    "                        tf.reduce_mean(SHELL)\n",
    "\n",
    "                gain = params[\"cls_xent_coeff\"] * XENT + \\\n",
    "                       -params[\"cls_ent_coeff\"] * ENT + \\\n",
    "                       params[\"cls_div_coeff\"] * DIV + \\\n",
    "                       -params[\"cls_shell_coeff\"] * SHELL\n",
    "\n",
    "            z_g = tape.gradient(gain, z_new)\n",
    "            if z_g is not None:\n",
    "                z_new = (z_new + 1 * z_g)\n",
    "\n",
    "        if z_new_max is None:\n",
    "            z_new_max = z_new.numpy().copy()\n",
    "        else:\n",
    "            z_new_max = np.concatenate([z_new_max, z_new.numpy().copy()])\n",
    "\n",
    "    tf.stop_gradient(z_new_max)\n",
    "\n",
    "    if np.isnan(z_new_max).any():\n",
    "        mir_worked = 0\n",
    "        mem_x = generate(agent, train=False)\n",
    "    else:\n",
    "        mem_x = z_new_max\n",
    "        mir_worked = 1\n",
    "\n",
    "    mem_y = agent.cls(mem_x).numpy()\n",
    "\n",
    "    return mem_x, mem_y, mir_worked"
   ],
   "metadata": {
    "collapsed": false
   }
  },
  {
   "cell_type": "code",
   "execution_count": 27,
   "outputs": [],
   "source": [
    "'''Retrive maximally interferred latent vector for generator'''\n",
    "#TODO: vmi más loss is (maximise interference)\n",
    "\n",
    "def retrieve_gen_for_gen(agent):\n",
    "\n",
    "    print(\"Retrieving latent vector for generator...\")\n",
    "\n",
    "    latent = agent.gen.encoder(agent.state[\"data\"])\n",
    "    #mean_latent = tf.cast(tf.reduce_mean(latent, axis=0), tf.float64)\n",
    "    z_new_max = None\n",
    "\n",
    "    for i in range(params[\"n_mem\"]):\n",
    "\n",
    "        z_new = generate(agent, input_latent=latent, train=False, coeff=0.1)\n",
    "\n",
    "        for j in range(params[\"mir_iters\"]):\n",
    "\n",
    "            with tf.GradientTape(persistent=True) as tape:\n",
    "                tape.watch(z_new)\n",
    "                # the predictions from the two models should be confident\n",
    "                ENT = tf.constant(0.)\n",
    "                if params[\"gen_ent_coeff\"]>0.:\n",
    "                    y_pre = agent.cls(z_new)\n",
    "                    ENT = tf.reduce_mean(tf.keras.losses.categorical_crossentropy(y_pre, y_pre))\n",
    "\n",
    "                # the new-found samples should be different from each others\n",
    "                DIV = tf.constant(0.)\n",
    "                if params[\"gen_div_coeff\"]>0.:\n",
    "                    for found_z_i in range(i):\n",
    "                        DIV += tf.reduce_mean(tf.math.squared_difference(\n",
    "                            z_new,\n",
    "                            z_new_max[found_z_i * z_new.shape[0]:found_z_i * z_new.shape[0] + z_new.shape[0]])\n",
    "                        ) / i\n",
    "\n",
    "                # (NEW) stay on gaussian shell loss:\n",
    "                SHELL = tf.constant(0.)\n",
    "                if params[\"gen_shell_coeff\"]>0.:\n",
    "                    SHELL = tf.reduce_mean(tf.math.squared_difference(\n",
    "                        tf.norm(z_new, ord=2, axis=1),\n",
    "                        tf.ones_like(tf.norm(z_new, ord=2, axis=1))*np.sqrt(params[\"z_size\"])))\n",
    "\n",
    "\n",
    "                gain =params[\"gen_div_coeff\"] * DIV + \\\n",
    "                      -params[\"gen_ent_coeff\"] * ENT + \\\n",
    "                       -params[\"gen_shell_coeff\"] * SHELL\n",
    "\n",
    "            z_g = tape.gradient(gain, z_new)\n",
    "            z_new = (z_new + z_g)\n",
    "\n",
    "        if z_new_max is None:\n",
    "            z_new_max = tf.identity(z_new)\n",
    "        else:\n",
    "            z_new_max = tf.concat([z_new_max, z_new], axis=0)\n",
    "\n",
    "\n",
    "    tf.stop_gradient(z_new_max)\n",
    "\n",
    "    if np.isnan(z_new_max).any():\n",
    "        mir_worked = 0\n",
    "        mem_x = generate(agent, train=False)\n",
    "    else:\n",
    "        mem_x = z_new_max\n",
    "        mir_worked = 1\n",
    "\n",
    "    return mem_x, mir_worked"
   ],
   "metadata": {
    "collapsed": false
   }
  },
  {
   "cell_type": "code",
   "execution_count": 9,
   "metadata": {
    "id": "lM8aEv6833SS"
   },
   "outputs": [],
   "source": [
    "'''Train the generator unit'''\n",
    "\n",
    "def train_generator(agent):\n",
    "\n",
    "    print(\"Training generator...\")\n",
    "\n",
    "    data = agent.state[\"data\"]\n",
    "    latent = agent.gen.encoder(data)\n",
    "    mem_x = None\n",
    "\n",
    "    for it in range(agent.params[\"gen_iters\"]):\n",
    "        generate(agent, input_latent=latent)\n",
    "\n",
    "        if agent.state[\"task\"] > 0:\n",
    "            if it == 0 or not agent.params[\"reuse_samples\"]:\n",
    "                mem_x, mir_worked = retrieve_gen_for_gen(agent)\n",
    "\n",
    "                agent.state[\"mir_tries\"] += 1\n",
    "                if mir_worked:\n",
    "                    agent.state[\"mir_success\"] += 1\n",
    "\n",
    "\n",
    "        if mem_x is not None:\n",
    "            generate(agent, input_latent=mem_x, coeff=agent.params[\"mem_coeff\"])\n"
   ]
  },
  {
   "cell_type": "code",
   "execution_count": 10,
   "metadata": {
    "id": "AXTbt9sT8gHE"
   },
   "outputs": [],
   "source": [
    "'''Train the encoder and the classifier unit'''\n",
    "\n",
    "def train_classifier(agent):\n",
    "\n",
    "    print(\"Training classifier...\")\n",
    "\n",
    "    data = agent.state[\"data\"]\n",
    "    target = agent.state[\"target\"]\n",
    "    mem_x, mem_y = None, None\n",
    "\n",
    "    for it in range(agent.params[\"cls_iters\"]):\n",
    "        agent.classifier_model.fit(data, target, batch_size=agent.params[\"batch_size\"], epochs=1, verbose=0)\n",
    "        if agent.state[\"task\"] > 0:\n",
    "            if it == 0 or not agent.params[\"reuse_samples\"]:\n",
    "                mem_x, mem_y, mir_worked = retrieve_gen_for_cls(agent)\n",
    "                agent.state[\"mir_tries\"] += 1\n",
    "                if mir_worked:\n",
    "                    agent.state[\"mir_success\"] += 1\n",
    "\n",
    "            if mem_x is not None:\n",
    "                agent.classifier_model.fit(mem_x, mem_y, batch_size=agent.params[\"batch_size\"], epochs=1, verbose=0)\n",
    "\n"
   ]
  },
  {
   "cell_type": "code",
   "execution_count": 11,
   "metadata": {
    "id": "0A88lN-h9hdV"
   },
   "outputs": [],
   "source": [
    "'''Run an epoch'''\n",
    "\n",
    "def run_epoch(agent):\n",
    "\n",
    "    gc.collect()\n",
    "\n",
    "    print(\"Running epoch...\")\n",
    "\n",
    "    for i, (data, target) in enumerate(agent.state[\"tr_loader\"]):\n",
    "        if agent.state[\"sample_amt\"] > agent.params[\"samples_per_task\"] > 0: break\n",
    "        agent.state[\"sample_amt\"] += data.shape[0]\n",
    "\n",
    "        agent.state[\"data\"] = data\n",
    "        agent.state[\"target\"] = target\n",
    "        agent.state[\"i_example\"] = i\n",
    "\n",
    "        train_classifier(agent)\n",
    "        train_generator(agent)\n",
    "\n",
    "        '''Evaluate the models in epoch'''\n",
    "        if i % agent.params[\"print_every\"] == 0:\n",
    "\n",
    "            print(\"Task: \", agent.state[\"task\"], \" Epoch: \", i)\n",
    "\n",
    "            '''Evaluate the classifier'''\n",
    "            logits = agent.classifier_model(data)\n",
    "            pred = np.argmax(logits, axis=1)\n",
    "            report = classification_report(np.argmax(target, axis=1), pred)\n",
    "            loss = tf.keras.losses.categorical_crossentropy(target, logits)\n",
    "            print(report)\n",
    "            print(\"Mean loss: \", np.mean(loss))\n",
    "\n",
    "            '''Evaluate the generator'''\n",
    "            mem_x = generate(agent, input_latent=agent.encoder(data), train=False)\n",
    "            mem_pred = np.argmax(agent.cls(mem_x))\n",
    "            mem_loss = tf.keras.losses.categorical_crossentropy(mem_pred, mem_pred)\n",
    "            print(\"Loss on generate: \",  np.mean(mem_loss))\n",
    "\n",
    "            mem_x_cls, mem_y, mir_worked_cls = retrieve_gen_for_cls(agent)\n",
    "            mem_loss_cls = tf.keras.losses.categorical_crossentropy(mem_y, mem_y)\n",
    "            print(\"Loss on retrieve for cls: \",  np.mean(mem_loss_cls))\n",
    "            print(\"MIR worked on retrieve for cls: \", mir_worked_cls)\n",
    "\n",
    "            mem_x_gen, mir_worked_gen = retrieve_gen_for_gen(agent)\n",
    "            mem_pred_gen = np.argmax(agent.cls(mem_x_gen))\n",
    "            mem_loss_gen = tf.keras.losses.categorical_crossentropy(mem_pred_gen, mem_pred_gen)\n",
    "            print(\"Loss on retrieve for gen: \",  np.mean(mem_loss_gen))\n",
    "            print(\"MIR worked on retrieve for gen: \", mir_worked_gen)"
   ]
  },
  {
   "cell_type": "code",
   "execution_count": 12,
   "metadata": {
    "id": "0SyPNSep_K0t"
   },
   "outputs": [],
   "source": [
    "'''Run a task'''\n",
    "\n",
    "def run_task(agent):\n",
    "\n",
    "    print(\"Running task...\")\n",
    "\n",
    "    agent.state[\"mir_tries\"], agent.state[\"mir_success\"] = 0, 0\n",
    "    agent.state[\"sample_amt\"] = 0\n",
    "\n",
    "    for epoch in range(agent.params[\"n_epochs\"]):\n",
    "        run_epoch(agent)\n",
    "\n",
    "    '''Evaluate forgetting'''\n",
    "    print(\"Task: \", agent.state[\"task\"])\n",
    "    for i in range(agent.state[\"task\"]):\n",
    "        print(\"Task forgetting on task \", i)\n",
    "        data, target = train_loader[i].batch(124)\n",
    "        logits = agent.classifier_model(data)\n",
    "        pred = np.argmax(logits, axis=1)\n",
    "        report = classification_report(np.argmax(target, axis=1), pred)\n",
    "        loss = tf.keras.losses.categorical_crossentropy(target, logits)\n",
    "        print(report)\n",
    "        print(\"Mean loss: \", np.mean(loss))\n",
    "\n",
    "    print(\"MIR success rate: \", agent.state[\"mir_success\"] / agent.state[\"mir_tries\"])"
   ]
  },
  {
   "cell_type": "code",
   "execution_count": 72,
   "metadata": {
    "id": "VhbA5MCFCi4r"
   },
   "outputs": [],
   "source": [
    "'''Run the experiment'''\n",
    "\n",
    "def run(agent):\n",
    "\n",
    "  agent.set_models(\n",
    "      classifier=classifier.classifier(agent.params),\n",
    "      generator=stable_diffusion.StableDiffusion(img_height=32, img_width=32, download_weights=True))\n",
    "\n",
    "  for task, tr_loader in enumerate(train_loader):\n",
    "    agent.state[\"task\"] = task\n",
    "    agent.state[\"tr_loader\"] = tr_loader\n",
    "    run_task(agent)"
   ]
  },
  {
   "cell_type": "markdown",
   "source": [
    "# Training"
   ],
   "metadata": {
    "collapsed": false
   }
  },
  {
   "cell_type": "code",
   "execution_count": null,
   "metadata": {
    "id": "BlPHqKTaC41u"
   },
   "outputs": [],
   "source": [
    "agent = Agent(params)\n",
    "for r in range(agent.params[\"n_runs\"]):\n",
    "  agent.state[\"run\"] = r\n",
    "  run(agent)"
   ]
  },
  {
   "cell_type": "markdown",
   "source": [
    "# Testing for development"
   ],
   "metadata": {
    "collapsed": false
   }
  },
  {
   "cell_type": "code",
   "execution_count": null,
   "outputs": [],
   "source": [
    "tasks_to_test = 2\n",
    "\n",
    "agent = Agent(params)\n",
    "agent.set_models(\n",
    "    classifier=classifier.classifier(agent.params),\n",
    "    generator=stable_diffusion.StableDiffusion(img_height=32, img_width=32, download_weights=True))\n",
    "for task, tr_loader in enumerate(train_loader[:tasks_to_test]):\n",
    "    agent.state[\"task\"] = task\n",
    "    agent.state[\"tr_loader\"] = tr_loader\n",
    "    run_task(agent)"
   ],
   "metadata": {
    "collapsed": false
   }
  },
  {
   "cell_type": "markdown",
   "source": [
    "# Evaluation, testing"
   ],
   "metadata": {
    "collapsed": false
   }
  },
  {
   "cell_type": "code",
   "execution_count": null,
   "outputs": [],
   "source": [
    "def evaluate(loader):\n",
    "    for task, tr_loader in enumerate(train_loader):\n",
    "        print(\"Task: \", task)\n",
    "        data, target = tr_loader.batch(124)\n",
    "        logits = agent.classifier_model(data)\n",
    "        pred = np.argmax(logits, axis=1)\n",
    "        report = classification_report(np.argmax(target, axis=1), pred)\n",
    "        loss = tf.keras.losses.categorical_crossentropy(target, logits)\n",
    "        print(report)\n",
    "        print(\"Mean loss: \", np.mean(loss))"
   ],
   "metadata": {
    "collapsed": false
   }
  },
  {
   "cell_type": "code",
   "execution_count": null,
   "metadata": {
    "id": "4I2ZLTm-JnX8"
   },
   "outputs": [],
   "source": [
    "print(\"Evaluation on training set:\")\n",
    "evaluate(train_loader)\n",
    "print(\"Evaluation on test set:\")\n",
    "evaluate(test_loader)"
   ]
  },
  {
   "cell_type": "markdown",
   "source": [
    "# Utils for development"
   ],
   "metadata": {
    "collapsed": false
   }
  },
  {
   "cell_type": "code",
   "execution_count": 87,
   "outputs": [
    {
     "data": {
      "text/plain": "<module 'utils' from '/Users/laszlofreund/PycharmProjects/continual-learning-ait/utils.py'>"
     },
     "execution_count": 87,
     "metadata": {},
     "output_type": "execute_result"
    }
   ],
   "source": [
    "# Reload modules\n",
    "importlib.reload(utils)"
   ],
   "metadata": {
    "collapsed": false
   }
  },
  {
   "cell_type": "code",
   "execution_count": null,
   "outputs": [],
   "source": [
    "# Garbage collection\n",
    "gc.collect()"
   ],
   "metadata": {
    "collapsed": false
   }
  }
 ],
 "metadata": {
  "colab": {
   "provenance": []
  },
  "kernelspec": {
   "display_name": "Python 3 (ipykernel)",
   "language": "python",
   "name": "python3"
  },
  "language_info": {
   "codemirror_mode": {
    "name": "ipython",
    "version": 3
   },
   "file_extension": ".py",
   "mimetype": "text/x-python",
   "name": "python",
   "nbconvert_exporter": "python",
   "pygments_lexer": "ipython3",
   "version": "3.9.13"
  }
 },
 "nbformat": 4,
 "nbformat_minor": 4
}
